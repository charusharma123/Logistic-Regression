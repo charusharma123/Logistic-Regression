{
  "nbformat": 4,
  "nbformat_minor": 0,
  "metadata": {
    "colab": {
      "provenance": []
    },
    "kernelspec": {
      "name": "python3",
      "display_name": "Python 3"
    },
    "language_info": {
      "name": "python"
    }
  },
  "cells": [
    {
      "cell_type": "markdown",
      "source": [
        "# Therotical:"
      ],
      "metadata": {
        "id": "MwQqdvUTVqU7"
      }
    },
    {
      "cell_type": "markdown",
      "source": [
        "1. WHat is logistic Regression, and how does it differ from the Linear Regression?\n",
        "-  Logistic Regression: Logistic Regression is a statistical model used for binary classification tasks. It predicts the probability that a given input belongs to a certain class. Despite its name, it's a classification algorithm, not a regression algorithm in the traditional sense of predicting continuous values. It uses the sigmoid (logistic) function to map the output of a linear equation to a probability between 0 and 1.\n",
        "\n",
        "- Difference from Linear Regression:\n",
        "   * Output: Linear Regression predicts a continuous output (e.g., house price, temperature), while Logistic Regression predicts a probability (between 0 and 1) that can be mapped to a discrete class label (e.g., spam/not spam, yes/no).\n",
        "   * Function: Linear Regression uses a linear function (y = mx + c), while Logistic Regression uses the sigmoid (logistic) function to transform the linear output into a probability.\n",
        "   * Cost Function: Linear Regression typically uses Mean Squared Error (MSE), whereas Logistic Regression uses a logarithmic loss function (e.g., cross-entropy).\n",
        "   * Purpose: Linear Regression is for regression tasks; Logistic Regression is for classification tasks.\n",
        "\n",
        "2. What is the mathematical equation of Logistic Regression?\n",
        "- The core of Logistic Regression involves a linear combination of input features, which is then passed through the sigmoid function.\n",
        " * Linear part: z = \\beta_0 + \\beta_1x_1 + \\beta_2x_2 + ... + \\beta_nx_n (or in vector form: z = \\mathbf{w}^T\\mathbf{x} + b)\n",
        " * Sigmoid function: P(Y=1|X) = \\frac{1}{1 + e^{-z}}\n",
        "Where:\n",
        " * P(Y=1|X) is the probability that the output variable Y is 1 (the positive class) given the input features X.\n",
        " * e is the base of the natural logarithm.\n",
        " * z is the linear combination of input features.\n",
        " * \\beta_0 (or b) is the intercept.\n",
        " * \\beta_1, ..., \\beta_n (or \\mathbf{w}) are the coefficients (weights) for the input features x_1, ..., x_n.\n",
        "\n",
        "3. WHy do we use the Sigmoid function in Logistic Regression?\n",
        "- The Sigmoid (or logistic) function, \\sigma(z) = \\frac{1}{1 + e^{-z}}, is used for several key reasons:\n",
        " * Probability Output: It squashes any real-valued number into a range between 0 and 1, which can be interpreted as a probability. This is crucial for classification tasks where we want to predict the likelihood of an instance belonging to a particular class.\n",
        " * Non-linearity: It introduces non-linearity into the model, allowing it to capture more complex relationships than a purely linear model would for classification.\n",
        " * Differentiability: The sigmoid function is differentiable, which is essential for gradient-based optimization algorithms (like gradient descent) used to learn the model's parameters.\n",
        " * Decision Boundary: The sigmoid output naturally leads to a decision boundary at 0.5 (where z=0), allowing for classification into two distinct classes.\n",
        "\n",
        "4. WHat is the cost function of logistic Regression?\n",
        "- The cost function for Logistic Regression is typically the Log-Loss (also known as Binary Cross-Entropy Loss). It measures the performance of a classification model whose output is a probability value between 0 and 1.\n",
        "For a single training example (x^{(i)}, y^{(i)}), where y^{(i)} is the true label (0 or 1) and \\hat{y}^{(i)} is the predicted probability:\n",
        "L(\\hat{y}^{(i)}, y^{(i)}) = -[y^{(i)} \\log(\\hat{y}^{(i)}) + (1 - y^{(i)}) \\log(1 - \\hat{y}^{(i)})]\n",
        "For m training examples, the overall cost function J(\\theta) (where \\theta represents the model parameters) is the average loss over all examples:\n",
        "J(\\theta) = -\\frac{1}{m} \\sum_{i=1}^{m} [y^{(i)} \\log(\\hat{y}^{(i)}) + (1 - y^{(i)}) \\log(1 - \\hat{y}^{(i)})]\n",
        "The goal of training is to find the parameters (\\theta) that minimize this cost function.\n",
        "\n",
        "5. What is Regularization in Logistic Regression? WHy is it needed?\n",
        "- Regularization: Regularization is a technique used in machine learning to prevent overfitting. Overfitting occurs when a model learns the training data too well, including its noise and outliers, leading to poor generalization on unseen data. Regularization adds a penalty term to the cost function, discouraging the model from assigning excessively large weights to features.\n",
        "\n",
        "- Why it's needed:\n",
        "   * Prevent Overfitting: The primary reason is to reduce the complexity of the model and prevent it from overfitting the training data.\n",
        "   * Handle Multicollinearity: It can help in situations where features are highly correlated (multicollinearity), as it penalizes large coefficients that might arise from such correlations.\n",
        "   * Feature Selection (Lasso): Certain types of regularization (Lasso) can even perform implicit feature selection by driving some coefficients to zero.\n",
        "   * Improve Generalization: By preventing overfitting, regularization helps the model generalize better to new, unseen data, leading to a more robust and reliable model.\n",
        "\n",
        "6. Explain the difference between Lasso, Ridge, and Elastic Net Regression?\n",
        "- These are three common types of regularization, primarily differing in the type of penalty term added to the cost function:\n",
        " * Ridge Regression (L2 Regularization):\n",
        "   * Penalty: Adds the sum of the squared magnitudes of the coefficients to the cost function.\n",
        "   * Formula (penalty part): \\lambda \\sum_{j=1}^{n} \\beta_j^2\n",
        "   * Effect: Shrinks the coefficients towards zero but rarely to absolute zero. It reduces the impact of less important features by making their coefficients smaller. It's good for reducing variance and handling multicollinearity.\n",
        " * Lasso Regression (L1 Regularization):\n",
        "   * Penalty: Adds the sum of the absolute magnitudes of the coefficients to the cost function.\n",
        "   * Formula (penalty part): \\lambda \\sum_{j=1}^{n} |\\beta_j|\n",
        "   * Effect: Can shrink some coefficients exactly to zero, effectively performing feature selection. This makes the model simpler and more interpretable by eliminating irrelevant features.\n",
        " * Elastic Net Regression:\n",
        "   * Penalty: A combination of both L1 (Lasso) and L2 (Ridge) penalties.\n",
        "   * Formula (penalty part): \\lambda_1 \\sum_{j=1}^{n} |\\beta_j| + \\lambda_2 \\sum_{j=1}^{n} \\beta_j^2\n",
        "   * Effect: Addresses some limitations of Lasso (e.g., when there are highly correlated features, Lasso tends to pick only one and ignore others) and Ridge (doesn't perform feature selection). Elastic Net combines the feature selection ability of Lasso with the grouping effect of Ridge, which is beneficial when dealing with highly correlated predictors. It has two regularization parameters (\\lambda_1 and \\lambda_2) to control the balance between L1 and L2 penalties.\n",
        "\n",
        "7. When should we use Elastic Net instead of Lasso or Ridge?\n",
        "- You should consider using Elastic Net when:\n",
        " * Many Correlated Features: When you have a dataset with a large number of highly correlated features. Lasso might arbitrarily pick one feature and zero out the others, which might not be ideal. Elastic Net tends to group correlated features together, meaning they are either all included or all excluded from the model.\n",
        " * Sparse Solutions AND Grouping: When you desire the feature selection property of Lasso (i.e., you want some coefficients to be exactly zero for model interpretability or simplicity) but also want to handle the multicollinearity robustly, which Ridge is better at.\n",
        " * Large Number of Features (p >> n): In situations where the number of features (p) is much larger than the number of observations (n), Lasso can select at most n features. Elastic Net doesn't have this limitation and can select more features.\n",
        "\n",
        "8. What is the impact of the regularization parameter (\\lambda) in Logistic Regression?\n",
        "- The regularization parameter, often denoted as \\lambda (or sometimes \\alpha or C depending on the library, where C is typically the inverse of \\lambda), controls the strength of the regularization.\n",
        " * Small \\lambda (or large C):\n",
        "   * Less regularization is applied.\n",
        "   * The model is more complex and tries to fit the training data very closely.\n",
        "   * Higher risk of overfitting (high variance, low bias).\n",
        "   * Coefficients can be large.\n",
        " * Large \\lambda (or small C):\n",
        "   * More regularization is applied.\n",
        "   * The model becomes simpler and less sensitive to individual data points.\n",
        "   * Higher risk of underfitting (high bias, low variance).\n",
        "   * Coefficients are shrunk more significantly, potentially to zero (with Lasso).\n",
        " * Optimal \\lambda: The goal is to find an optimal \\lambda that balances the trade-off between bias and variance, leading to good generalization performance on unseen data. This is typically done through techniques like cross-validation.\n",
        "\n",
        "9. What are the Key assumptions of Logistic Regression?\n",
        "- While less strict than Linear Regression, Logistic Regression still has some assumptions:\n",
        " * Binary Outcome: The dependent variable must be binary or dichotomous (e.g., 0/1, Yes/No). For multiclass classification, extensions like Softmax Regression or One-vs-Rest are used.\n",
        " * Independence of Observations: Observations should be independent of each other.\n",
        " * No Multicollinearity: Independent variables should not be highly correlated with each other. High multicollinearity can lead to unstable and uninterpretable coefficient estimates.\n",
        " * Linearity of Log-Odds: The independent variables are linearly related to the log-odds (logit) of the outcome. This means that the logit of the probability of the event occurring is a linear combination of the predictors.\n",
        " * Large Sample Size: Logistic Regression tends to perform better with larger sample sizes.\n",
        " * No Extreme Outliers: While less sensitive than OLS regression, extreme outliers can still disproportionately influence the model's coefficients.\n",
        "\n",
        "10. What are some alretnatives to Logistic Regression for classification tasks?\n",
        "- There are many powerful alternatives to Logistic Regression for classification, each with its strengths and weaknesses:\n",
        " * Support Vector Machines (SVMs): Find a hyperplane that best separates data points into different classes. Effective in high-dimensional spaces.\n",
        " * Decision Trees: Tree-like models that make decisions based on splitting data at specific feature values. Easy to interpret.\n",
        " * Random Forests: An ensemble method that builds multiple decision trees and aggregates their predictions. Reduces overfitting compared to single decision trees.\n",
        " * Gradient Boosting Machines (GBM) / XGBoost / LightGBM / CatBoost: Powerful ensemble methods that build trees sequentially, correcting errors of previous trees. Often achieve state-of-the-art performance.\n",
        " * K-Nearest Neighbors (KNN): A non-parametric, lazy learning algorithm that classifies a data point based on the majority class of its 'k' nearest neighbors.\n",
        " * Naïve Bayes: A probabilistic classifier based on Bayes' theorem with the assumption of independence between features. Simple and efficient.\n",
        " * Neural Networks / Deep Learning: Complex models with multiple layers of interconnected nodes, capable of learning intricate patterns. Highly effective for large and complex datasets (images, text).\n",
        " * Perceptron: A very basic linear binary classifier, a foundational concept for neural networks.\n",
        "\n",
        "11. What are classification Evaluation Matrics?\n",
        "- These metrics are used to assess the performance of classification models. Choosing the right metric depends on the specific problem and class distribution.\n",
        " * Accuracy: The proportion of correctly classified instances out of the total instances.\n",
        "   * Formula: \\text{Accuracy} = \\frac{\\text{Number of Correct Predictions}}{\\text{Total Number of Predictions}}\n",
        "   * Issue: Can be misleading with imbalanced datasets.\n",
        " * Precision (Positive Predictive Value): Of all instances predicted as positive, what proportion were actually positive.\n",
        "   * Formula: \\text{Precision} = \\frac{\\text{True Positives (TP)}}{\\text{True Positives (TP) + False Positives (FP)}}\n",
        " * Recall (Sensitivity, True Positive Rate): Of all actual positive instances, what proportion were correctly identified as positive.\n",
        "   * Formula: \\text{Recall} = \\frac{\\text{True Positives (TP)}}{\\text{True Positives (TP) + False Negatives (FN)}}\n",
        " * F1-Score: The harmonic mean of Precision and Recall. Provides a balance between the two and is particularly useful for imbalanced datasets.\n",
        "   * Formula: \\text{F1-Score} = 2 \\times \\frac{\\text{Precision} \\times \\text{Recall}}{\\text{Precision} + \\text{Recall}}\n",
        " * Confusion Matrix: A table that summarizes the performance of a classification algorithm. It shows True Positives (TP), True Negatives (TN), False Positives (FP), and False Negatives (FN).\n",
        " * ROC Curve (Receiver Operating Characteristic Curve): Plots the True Positive Rate (Recall) against the False Positive Rate at various threshold settings.\n",
        " * AUC (Area Under the ROC Curve): Represents the degree or measure of separability. It tells how much the model is capable of distinguishing between classes. A higher AUC means the model is better at predicting 0s as 0s and 1s as 1s.\n",
        " * Log-Loss (Binary Cross-Entropy): The cost function Logistic Regression aims to minimize. It penalizes incorrect predictions that are confident.\n",
        " * Specificity (True Negative Rate): Of all actual negative instances, what proportion were correctly identified as negative.\n",
        "   * Formula: \\text{Specificity} = \\frac{\\text{True Negatives (TN)}}{\\text{True Negatives (TN) + False Positives (FP)}}\n",
        "12. How does class imbalance affect Logistic Regression?\n",
        "- Class imbalance occurs when one class (the majority class) significantly outnumbers the other class (the minority class) in the training data. This can severely affect Logistic Regression (and many other classifiers) in several ways:\n",
        " * Bias Towards Majority Class: The model tends to become biased towards the majority class because minimizing the overall error means correctly predicting the majority class more often. It might simply predict the majority class for almost all instances, achieving high accuracy but failing to identify the minority class.\n",
        " * Poor Minority Class Performance: Even with seemingly high accuracy, the model might have very poor precision and recall for the minority class, which is often the class of interest (e.g., fraud detection, disease diagnosis).\n",
        " * Misleading Metrics: Accuracy becomes an unreliable metric because a high accuracy score can be achieved by simply predicting the majority class, even if the model performs poorly on the minority class. Metrics like F1-score, Precision, Recall, and AUC are more appropriate.\n",
        " * Numerical Instability: In extreme cases, the model's optimization process might struggle if the minority class instances are too few, potentially leading to numerical instability or convergence issues.\n",
        "Strategies to address class imbalance:\n",
        " * Resampling Techniques:\n",
        "   * Oversampling: Duplicating instances from the minority class (e.g., SMOTE - Synthetic Minority Over-sampling Technique).\n",
        "   * Undersampling: Removing instances from the majority class.\n",
        " * Cost-Sensitive Learning: Assigning higher penalties to misclassifications of the minority class in the cost function.\n",
        " * Algorithm-Specific Approaches: Some algorithms (like Gradient Boosting) can inherently handle imbalance better or have parameters to adjust for it.\n",
        " * Ensemble Methods: Bagging or boosting techniques can sometimes mitigate imbalance.\n",
        " * Threshold Adjustment: Instead of using the default 0.5 threshold, adjust it to prioritize recall or precision for the minority class.\n",
        "\n",
        "13. What is Hyperparameter Tuning in Logistic Regression?\n",
        "- Hyperparameter tuning (or optimization) is the process of finding the optimal set of hyperparameters for a machine learning model. Hyperparameters are parameters that are not learned from the data but are set prior to the training process. They control the behavior of the learning algorithm itself.\n",
        "For Logistic Regression, common hyperparameters that are tuned include:\n",
        " * Regularization Strength (C or \\lambda):\n",
        "   * C (inverse of regularization strength): Smaller C means stronger regularization.\n",
        "   * penalty (L1, L2, Elastic Net): The type of regularization.\n",
        "   * l1_ratio (for Elastic Net): The mixing parameter between L1 and L2.\n",
        " * Solver: The algorithm used to optimize the model's parameters (e.g., 'liblinear', 'newton-cg', 'lbfgs', 'sag', 'saga'). Different solvers are suitable for different datasets (e.g., small vs. large, L1 vs. L2).\n",
        " * Maximum Iterations (max_iter): The maximum number of iterations for the solver to converge.\n",
        " * Tolerance (tol): The stopping criterion for the optimization.\n",
        "Common Hyperparameter Tuning Techniques:\n",
        " * Grid Search: Exhaustively searches through a manually specified subset of the hyperparameter space.\n",
        " * Random Search: Randomly samples hyperparameter combinations from specified distributions. Often more efficient than Grid Search for high-dimensional hyperparameter spaces.\n",
        " * Bayesian Optimization: Uses a probabilistic model to select the next best hyperparameters to evaluate, aiming to converge faster to optimal values.\n",
        " * Genetic Algorithms: Inspired by biological evolution, these algorithms search for optimal hyperparameters by mimicking natural selection.\n",
        "\n",
        "14. What are different solvers in Logistic Regression? Which one should be used?\n",
        "- Different solvers are optimization algorithms used to find the optimal coefficients for Logistic Regression by minimizing the cost function. Common solvers available in libraries like scikit-learn include:\n",
        " * 'liblinear':\n",
        "   * Pros: Good for small datasets, supports L1 and L2 regularization. Very efficient for binary classification.\n",
        "   * Cons: Does not support Elastic Net, not ideal for very large datasets due to its limited multi-class support (only One-vs-Rest).\n",
        " * 'newton-cg', 'lbfgs', 'sag', 'saga':\n",
        "   * Pros: Suitable for larger datasets.\n",
        "   * Cons: Generally only support L2 regularization or no regularization for 'newton-cg' and 'lbfgs'. 'sag' and 'saga' are faster for very large datasets when the number of samples is huge.\n",
        " * 'sag' (Stochastic Average Gradient):\n",
        "   * Pros: Fast for very large datasets (when n is large).\n",
        "   * Cons: Only supports L2 regularization. Requires features to be scaled.\n",
        " * 'saga' (Stochastic Average Gradient Descent with SAGA):\n",
        "   * Pros: A more flexible version of 'sag'. Supports L1, L2, and Elastic Net regularization. Fast for very large datasets.\n",
        "   * Cons: Requires features to be scaled.\n",
        "- Which one should be used?\n",
        "The choice of solver depends on your dataset characteristics and regularization needs:\n",
        " * Default (often 'lbfgs' in scikit-learn): A good general-purpose solver.\n",
        " * Small datasets & L1/L2: 'liblinear' is a good choice.\n",
        " * Large datasets & L2: 'lbfgs', 'newton-cg', or 'sag' (if features are scaled).\n",
        " * Large datasets & L1/L2/Elastic Net: 'saga' is the most versatile and often the best choice for large datasets.\n",
        " * Multiclass classification: 'newton-cg', 'lbfgs', 'sag', and 'saga' handle multiclass natively (either using OvR or multinomial loss), while 'liblinear' only supports OvR.\n",
        "General Recommendation:\n",
        " * For small to medium datasets, liblinear is often a good default, especially if you need L1 regularization.\n",
        " * For larger datasets, especially with L2 or Elastic Net, saga is generally preferred.\n",
        " * Always consider scaling your features when using 'sag' or 'saga' for optimal performance.\n",
        "15. How is Logistic Regression extended for multiclass classification?\n",
        "- Logistic Regression is inherently a binary classifier. To extend it to handle more than two classes, two common strategies are used:\n",
        " * One-vs-Rest (OvR) / One-vs-All (OvA):\n",
        "   * Concept: This strategy involves training a separate binary Logistic Regression model for each class. For K classes, K binary classifiers are trained.\n",
        "   * Training: For each classifier, one class is treated as the \"positive\" class, and all other classes are grouped together as the \"negative\" class.\n",
        "   * Prediction: To make a prediction for a new instance, all K classifiers are run. The class corresponding to the classifier that outputs the highest probability (or score) is chosen as the predicted class.\n",
        "   * Pros: Simple to implement, computationally efficient, and allows you to use any binary classifier.\n",
        "   * Cons: Can lead to ambiguous regions where multiple classifiers predict a high probability, or regions where no classifier predicts a high probability. It also doesn't consider the relationships between the \"other\" classes.\n",
        " * Multinomial Logistic Regression (Softmax Regression):\n",
        "   * Concept: This is a direct extension of Logistic Regression that handles multiple classes natively, without building multiple binary models. It's used when the classes are mutually exclusive (e.g., an image can only be one animal, not multiple).\n",
        "   * Function: Instead of the sigmoid, it uses the softmax function in the output layer. The softmax function converts a vector of arbitrary real values into a probability distribution over multiple classes.\n",
        "   * Formula (for class k): P(Y=k|X) = \\frac{e^{\\mathbf{w}k^T\\mathbf{x} + b_k}}{\\sum{j=1}^{K} e^{\\mathbf{w}_j^T\\mathbf{x} + b_j}}\n",
        "   * Training: It trains a single model that learns a set of weights for each class, directly optimizing for the multiclass problem. The cost function used is Multiclass Cross-Entropy Loss.\n",
        "   * Pros: Provides a more natural probabilistic interpretation for multiclass problems. Often performs better than OvR when classes are truly mutually exclusive.\n",
        "   * Cons: Can be more computationally intensive to train than OvR for a large number of classes.\n",
        "\n",
        "16. What are the advantages and disadvantages of Logistic Regression?\n",
        "Advantages:\n",
        " - Simplicity and Interpretability: It's relatively simple to understand and implement. The coefficients can be interpreted as the change in the log-odds of the outcome for a one-unit change in the predictor variable.\n",
        " * Efficiency: It's computationally efficient, especially for training, and can handle large datasets.\n",
        " * Probability Output: Provides probability scores for predictions, which can be useful for decision-making (e.g., setting thresholds).\n",
        " * Good Baseline: Often serves as a good baseline model against which more complex algorithms can be compared.\n",
        " * Less Prone to Overfitting (with regularization): Regularization techniques (L1, L2) can effectively prevent overfitting.\n",
        " * Handles Linearly Separable Data Well: Performs well when the classes are linearly separable.\n",
        "Disadvantages:\n",
        " * Assumes Linearity in Log-Odds: Requires the independent variables to be linearly related to the log-odds of the outcome. It cannot capture complex, non-linear relationships without feature engineering.\n",
        " * Sensitivity to Outliers: Can be sensitive to outliers, which can disproportionately affect the model's coefficients.\n",
        " * Multicollinearity Issues: Suffers from multicollinearity among independent variables, leading to unstable coefficient estimates (though regularization helps mitigate this).\n",
        " * Not Ideal for Highly Complex Data: May not perform as well as more complex algorithms (e.g., boosted trees, neural networks) on highly complex, non-linear datasets.\n",
        " * Limited for Imbalanced Datasets: Can struggle with highly imbalanced datasets, potentially biasing predictions towards the majority class (as discussed in Q12).\n",
        " * Does not handle continuous outcomes directly.\n",
        "17. What are some use cases of Logistic Regression?\n",
        "- Logistic Regression is widely used in various fields for binary and multiclass classification problems where interpretability and probability estimates are important.\n",
        " * Medical Diagnosis:\n",
        "   * Predicting the likelihood of a disease (e.g., heart disease, diabetes) based on symptoms, test results, and patient history.\n",
        "   * Classifying tumors as malignant or benign.\n",
        " * Marketing and Customer Churn:\n",
        "* Predicting whether a customer will purchase a product or service.\n",
        "   * Identifying customers at risk of churn (leaving a service).\n",
        " * Finance:\n",
        "   * Credit scoring: Predicting the probability of loan default.\n",
        "   * Fraud detection: Identifying fraudulent transactions.\n",
        " * Spam Detection:\n",
        "   * Classifying emails as spam or not spam.\n",
        " * Image Classification:\n",
        "   * Simple image classification tasks (e.g., recognizing digits).\n",
        " * Sentiment Analysis:\n",
        "   * Classifying text as positive, negative, or neutral sentiment.\n",
        " * Ad Click-Through Rate Prediction:\n",
        "   * Predicting the likelihood of a user clicking on an advertisement.\n",
        " * Predicting Election Outcomes:\n",
        "   * Predicting whether a candidate will win an election based on demographics and polling data.\n",
        "18. What is the difference between Softmax Regression and Logistic Regression?\n",
        "- The fundamental difference lies in the number of classes they are designed to handle:\n",
        " * Logistic Regression:\n",
        "   * Purpose: Primarily designed for binary classification problems (two classes).\n",
        "   * Output Function: Uses the sigmoid (logistic) function to output a probability between 0 and 1 for the positive class.\n",
        "   * Cost Function: Binary Cross-Entropy Loss.\n",
        "   * Number of Output Units: Typically one (representing the probability of the positive class).\n",
        " * Softmax Regression (Multinomial Logistic Regression):\n",
        "   * Purpose: Designed for multiclass classification problems (more than two mutually exclusive classes).\n",
        "   * Output Function: Uses the softmax function to output a probability distribution over all classes. The sum of probabilities for all classes equals 1.\n",
        "   * Cost Function: Categorical Cross-Entropy Loss (or Multiclass Cross-Entropy Loss).\n",
        "   * Number of Output Units: Equal to the number of classes, with each unit representing the probability of belonging to that specific class.\n",
        "In essence, Softmax Regression is a generalization of Logistic Regression to multiple classes. If you have only two classes, Softmax Regression essentially reduces to Logistic Regression.\n",
        "19. How do we choose between One-vs-Rest (OvR) and Softmax for multiclass classification?\n",
        "- The choice between OvR and Softmax (Multinomial Logistic Regression) dependon the nature of your classes and the underlying assumption about their relationship:\n",
        " * When to use Softmax Regression (Multinomial Logistic Regression):\n",
        "   * Mutually Exclusive Classes: When the classes are truly mutually exclusive, meaning an instance can only belong to one and only one class (e.g., classifying an image as a \"cat,\" \"dog,\" or \"bird\" – it can't be both a cat and a dog simultaneously).\n",
        "   * Direct Probability Distribution: Softmax directly provides a probability distribution over all classes, which is often a more natural and interpretable output for such problems.\n",
        "   * Better Performance: Often yields better performance than OvR when the mutual exclusivity assumption holds, as it optimizes a single model for all classes.\n",
        " * When to use One-vs-Rest (OvR):\n",
        "   * Non-Mutually Exclusive Classes (Multi-label Classification): When an instance can potentially belong to multiple classes simultaneously (though Logistic Regression is typically for single-label, OvR can be adapted or combined with other techniques for multi-label). While primarily for single-label, if the problem formulation could potentially allow for multiple \"positive\" outcomes (e.g., classifying a movie by genre, where a movie can be both \"Action\" and \"Comedy\"), OvR might be conceptually more aligned, though specific multi-label algorithms are better suited.\n",
        "   * Using Any Binary Classifier: If you want to use a specific binary classifier that doesn't natively support multiclass (like a custom Logistic Regression implementation or an SVM that's only binary), OvR allows you to extend it to multiclass.\n",
        "   * Interpretability of Individual Class Models: If you are interested in the specific features that distinguish one class from all others, the individual binary models in OvR might offer slightly more direct interpretability for each class.\n",
        "Summary:\n",
        "For standard multiclass classification where instances belong to only one class, Softmax Regression is generally preferred as it's a more coherent and often better-performing approach. OvR is more versatile if you want to wrap any binary classifier for multiclass problems or if you encounter scenarios (less common for traditional Logistic Regression) where labels might not be strictly mutually exclusive.\n",
        "20. How do we interpret coefficients in Logistic Regression?\n",
        "- Interpreting coefficients in Logistic Regression is different from Linear Regression because the relationship is with the log-odds (logit) of the outcome, not the outcome itself.\n",
        "The core interpretation relies on the log-odds:\n",
        "For a one-unit increase in a predictor variable x_j, holding all other predictors constant:\n",
        " * The log-odds of the outcome (P(Y=1)) change by \\beta_j.\n",
        "   * If \\beta_j > 0: An increase in x_j increases the log-odds of Y=1.\n",
        "   * If \\beta_j < 0: An increase in x_j decreases the log-odds of Y=1.\n",
        "   * If \\beta_j = 0: An increase in x_j has no effect on the log-odds of Y=1.\n",
        "Using Odds Ratios for Easier Interpretation:\n",
        "To make the interpretation more intuitive, we often convert the coefficients to odds ratios by exponentiating them: e^{\\beta_j}.\n",
        " * Odds Ratio (OR_j) = e^{\\beta_j}\n",
        "   * For a one-unit increase in x_j, the odds of the outcome (Y=1) are multiplied by e^{\\beta_j}, holding all other predictors constant.\n",
        "   * If OR_j > 1: The odds of Y=1 increase by a factor of OR_j. For example, if OR_j = 1.5, the odds increase by 50%.\n",
        "   * If OR_j < 1: The odds of Y=1 decrease by a factor of OR_j. For example, if OR_j = 0.8, the odds decrease by 20%.\n",
        "   * If OR_j = 1: The odds of Y=1 remain unchanged.\n",
        "Important Considerations:\n",
        " * \"Holding all other predictors constant\": This is a crucial caveat. The interpretation assumes that all other variables in the model do not change.\n",
        " * Probability vs. Odds: Odds are not probabilities. Odds are the ratio of the probability of an event happening to the probability of it not happening (Odds = P/(1-P)). While related, they are distinct concepts.\n",
        " * Interaction Terms: If your model includes interaction terms, the interpretation of individual coefficients changes and becomes more complex.\n",
        " * Feature Scaling: If features are scaled (e.g., standardized), a one-unit increase refers to a one-standard-deviation increase, which affects the magnitude of the coefficient and thus the odds ratio. However, the qualitative interpretation (increase/decrease in odds) remains the same.\n",
        " * Significance: It's important to consider the statistical significance (p-values) of the coefficients to determine if the observed effect is likely due to chance."
      ],
      "metadata": {
        "id": "J0cB3vC2VqKC"
      }
    },
    {
      "cell_type": "markdown",
      "source": [
        "# Practical:"
      ],
      "metadata": {
        "id": "wkV3COUFb9R2"
      }
    },
    {
      "cell_type": "markdown",
      "source": [
        "1. Write a Python Program that loads a dataset, splits it into training and testing sets, applies Logistic Regression, and prints the model accuracy."
      ],
      "metadata": {
        "id": "AhHq04eQb8pD"
      }
    },
    {
      "cell_type": "code",
      "source": [
        "# Common imports for all problems\n",
        "import numpy as np\n",
        "import pandas as pd\n",
        "from sklearn.model_selection import train_test_split, GridSearchCV, StratifiedKFold\n",
        "from sklearn.linear_model import LogisticRegression\n",
        "from sklearn.metrics import accuracy_score, classification_report\n",
        "from sklearn.datasets import load_breast_cancer, load_iris\n",
        "import warnings\n",
        "\n",
        "# Suppress warnings for cleaner output, especially for solver warnings\n",
        "warnings.filterwarnings('ignore')\n",
        "print(\"\\n--- Problem 1: Basic Logistic Regression ---\")\n",
        "\n",
        "# Load a binary classification dataset (Breast Cancer Wisconsin)\n",
        "data_p1 = load_breast_cancer()\n",
        "X_p1 = data_p1.data\n",
        "y_p1 = data_p1.target\n",
        "\n",
        "# Split the dataset into training and testing sets\n",
        "# Using a fixed random_state for reproducibility\n",
        "X_train_p1, X_test_p1, y_train_p1, y_test_p1 = train_test_split(\n",
        "    X_p1, y_p1, test_size=0.3, random_state=42\n",
        ")\n",
        "\n",
        "# Initialize Logistic Regression model\n",
        "# Default solver 'lbfgs' is good for most cases and supports L2 regularization.\n",
        "# C=1.0 is the default inverse of regularization strength (L2 by default)\n",
        "model_p1 = LogisticRegression(random_state=42, solver='liblinear') # 'liblinear' is often robust for smaller datasets\n",
        "\n",
        "# Train the model\n",
        "model_p1.fit(X_train_p1, y_train_p1)\n",
        "\n",
        "# Make predictions on the test set\n",
        "y_pred_p1 = model_p1.predict(X_test_p1)\n",
        "\n",
        "# Calculate and print the accuracy\n",
        "accuracy_p1 = accuracy_score(y_test_p1, y_pred_p1)\n",
        "print(f\"Model Accuracy (Problem 1): {accuracy_p1:.4f}\")\n",
        "print(\"--- End Problem 1 ---\")\n"
      ],
      "metadata": {
        "colab": {
          "base_uri": "https://localhost:8080/",
          "height": 0
        },
        "id": "uLuP6S8EidgE",
        "outputId": "1a93f931-7fb7-4f9b-a52b-862ed028d936"
      },
      "execution_count": 1,
      "outputs": [
        {
          "output_type": "stream",
          "name": "stdout",
          "text": [
            "\n",
            "--- Problem 1: Basic Logistic Regression ---\n",
            "Model Accuracy (Problem 1): 0.9649\n",
            "--- End Problem 1 ---\n"
          ]
        }
      ]
    },
    {
      "cell_type": "markdown",
      "source": [
        "2. Write a Python program to apply L1 regularization (Lasso) on a dataset using Logistic Regression (Penalty='11') and print the model accuracy."
      ],
      "metadata": {
        "id": "5YV_KkxRiSSQ"
      }
    },
    {
      "cell_type": "code",
      "source": [
        "# Common imports for all problems\n",
        "import numpy as np\n",
        "import pandas as pd\n",
        "from sklearn.model_selection import train_test_split, GridSearchCV, StratifiedKFold\n",
        "from sklearn.linear_model import LogisticRegression\n",
        "from sklearn.metrics import accuracy_score, classification_report\n",
        "from sklearn.datasets import load_breast_cancer, load_iris\n",
        "import warnings\n",
        "\n",
        "# Suppress warnings for cleaner output, especially for solver warnings\n",
        "warnings.filterwarnings('ignore')\n",
        "print(\"\\n--- Problem 2: L1 Regularization (Lasso) ---\")\n",
        "\n",
        "# Use the same dataset and split as Problem 1\n",
        "# For L1 regularization, 'liblinear' and 'saga' solvers support it. 'liblinear' is generally faster for smaller datasets.\n",
        "# We'll use a smaller C (stronger regularization) to demonstrate the effect of L1.\n",
        "model_p2 = LogisticRegression(penalty='l1', C=0.1, random_state=42, solver='liblinear')\n",
        "\n",
        "# Train the model\n",
        "model_p2.fit(X_train_p1, y_train_p1)\n",
        "\n",
        "# Make predictions\n",
        "y_pred_p2 = model_p2.predict(X_test_p1)\n",
        "\n",
        "# Calculate and print accuracy\n",
        "accuracy_p2 = accuracy_score(y_test_p1, y_pred_p2)\n",
        "print(f\"Model Accuracy with L1 Regularization (Problem 2): {accuracy_p2:.4f}\")\n",
        "\n",
        "# Print coefficients to observe sparsity (some might be zero)\n",
        "print(\"Coefficients with L1 Regularization (Problem 2):\")\n",
        "# Round to make zeros visible\n",
        "print(np.round(model_p2.coef_, 4))\n",
        "print(\"--- End Problem 2 ---\")\n",
        "\n"
      ],
      "metadata": {
        "colab": {
          "base_uri": "https://localhost:8080/",
          "height": 0
        },
        "id": "b0rNYoS_liLL",
        "outputId": "60b205d2-90a2-4be3-9ef4-9d967f5ce6c2"
      },
      "execution_count": 2,
      "outputs": [
        {
          "output_type": "stream",
          "name": "stdout",
          "text": [
            "\n",
            "--- Problem 2: L1 Regularization (Lasso) ---\n",
            "Model Accuracy with L1 Regularization (Problem 2): 0.9591\n",
            "Coefficients with L1 Regularization (Problem 2):\n",
            "[[ 0.0908  0.      0.3592 -0.0095  0.      0.      0.      0.      0.\n",
            "   0.      0.      0.      0.     -0.0411  0.      0.      0.      0.\n",
            "   0.      0.      0.113  -0.1288 -0.1306 -0.014   0.      0.      0.\n",
            "   0.      0.      0.    ]]\n",
            "--- End Problem 2 ---\n"
          ]
        }
      ]
    },
    {
      "cell_type": "markdown",
      "source": [
        "3. Write a Python program to train Logistic Regression with L2 regularization (Ridge) using Logistic regression (penalty='l2'). Print model accuracy and coefficients."
      ],
      "metadata": {
        "id": "S85Yn5BkiVCM"
      }
    },
    {
      "cell_type": "code",
      "source": [
        "# Common imports for all problems\n",
        "import numpy as np\n",
        "import pandas as pd\n",
        "from sklearn.model_selection import train_test_split, GridSearchCV, StratifiedKFold\n",
        "from sklearn.linear_model import LogisticRegression\n",
        "from sklearn.metrics import accuracy_score, classification_report\n",
        "from sklearn.datasets import load_breast_cancer, load_iris\n",
        "import warnings\n",
        "\n",
        "# Suppress warnings for cleaner output, especially for solver warnings\n",
        "warnings.filterwarnings('ignore')\n",
        "print(\"\\n--- Problem 3: L2 Regularization (Ridge) ---\")\n",
        "\n",
        "# Use the same dataset and split as Problem 1\n",
        "# L2 regularization is the default. Solvers like 'lbfgs', 'liblinear', 'newton-cg', 'sag', 'saga' support L2.\n",
        "# We'll use a moderate C value (e.g., C=1.0, which is often default)\n",
        "model_p3 = LogisticRegression(penalty='l2', C=1.0, random_state=42, solver='liblinear')\n",
        "\n",
        "# Train the model\n",
        "model_p3.fit(X_train_p1, y_train_p1)\n",
        "\n",
        "# Make predictions\n",
        "y_pred_p3 = model_p3.predict(X_test_p1)\n",
        "\n",
        "# Calculate and print accuracy\n",
        "accuracy_p3 = accuracy_score(y_test_p1, y_pred_p3)\n",
        "print(f\"Model Accuracy with L2 Regularization (Problem 3): {accuracy_p3:.4f}\")\n",
        "\n",
        "# Print coefficients to observe shrinkage (they will be small but rarely zero)\n",
        "print(\"Coefficients with L2 Regularization (Problem 3):\")\n",
        "print(np.round(model_p3.coef_, 4))\n",
        "print(\"--- End Problem 3 ---\")"
      ],
      "metadata": {
        "colab": {
          "base_uri": "https://localhost:8080/",
          "height": 0
        },
        "id": "TRvBXZmiliok",
        "outputId": "54daa7a4-df66-49a6-c4b6-4db1dc06330c"
      },
      "execution_count": 4,
      "outputs": [
        {
          "output_type": "stream",
          "name": "stdout",
          "text": [
            "\n",
            "--- Problem 3: L2 Regularization (Ridge) ---\n",
            "Model Accuracy with L2 Regularization (Problem 3): 0.9649\n",
            "Coefficients with L2 Regularization (Problem 3):\n",
            "[[ 2.1753e+00  1.5970e-01 -1.2540e-01 -4.0000e-03 -1.3040e-01 -4.1130e-01\n",
            "  -6.5500e-01 -3.5010e-01 -2.0220e-01 -2.9300e-02 -6.6100e-02  1.4036e+00\n",
            "   1.1790e-01 -1.0930e-01 -1.4600e-02 -2.4800e-02 -6.3500e-02 -4.1100e-02\n",
            "  -4.8800e-02 -8.0000e-04  1.1552e+00 -3.9030e-01 -7.6800e-02 -2.1300e-02\n",
            "  -2.4210e-01 -1.1398e+00 -1.5793e+00 -6.1740e-01 -7.2910e-01 -1.1080e-01]]\n",
            "--- End Problem 3 ---\n"
          ]
        }
      ]
    },
    {
      "cell_type": "markdown",
      "source": [
        "4. Write a Python program to train Logistic Regression with Elastic Net Regularization (penalty='elasticnet')."
      ],
      "metadata": {
        "id": "QeAXKlWfiU-p"
      }
    },
    {
      "cell_type": "code",
      "source": [
        "# Common imports for all problems\n",
        "import numpy as np\n",
        "import pandas as pd\n",
        "from sklearn.model_selection import train_test_split, GridSearchCV, StratifiedKFold\n",
        "from sklearn.linear_model import LogisticRegression\n",
        "from sklearn.metrics import accuracy_score, classification_report\n",
        "from sklearn.datasets import load_breast_cancer, load_iris\n",
        "import warnings\n",
        "\n",
        "# Suppress warnings for cleaner output, especially for solver warnings\n",
        "warnings.filterwarnings('ignore')\n",
        "print(\"\\n--- Problem 4: Elastic Net Regularization ---\")\n",
        "\n",
        "# Use the same dataset and split as Problem 1\n",
        "# Elastic Net requires the 'saga' solver.\n",
        "# It also requires the l1_ratio parameter, which balances L1 and L2.\n",
        "# l1_ratio = 0 means pure L2, l1_ratio = 1 means pure L1. 0 < l1_ratio < 1 for Elastic Net.\n",
        "model_p4 = LogisticRegression(penalty='elasticnet', C=0.5, l1_ratio=0.5, random_state=42, solver='saga')\n",
        "\n",
        "# Train the model\n",
        "model_p4.fit(X_train_p1, y_train_p1)\n",
        "\n",
        "# Make predictions\n",
        "y_pred_p4 = model_p4.predict(X_test_p1)\n",
        "\n",
        "# Calculate and print accuracy\n",
        "accuracy_p4 = accuracy_score(y_test_p1, y_pred_p4)\n",
        "print(f\"Model Accuracy with Elastic Net Regularization (Problem 4): {accuracy_p4:.4f}\")\n",
        "\n",
        "# Print coefficients\n",
        "print(\"Coefficients with Elastic Net Regularization (Problem 4):\")\n",
        "print(np.round(model_p4.coef_, 4))\n",
        "print(\"--- End Problem 4 ---\")"
      ],
      "metadata": {
        "colab": {
          "base_uri": "https://localhost:8080/",
          "height": 0
        },
        "id": "4488mCVali_C",
        "outputId": "b63a8356-dcbe-4908-cee2-53462f22861c"
      },
      "execution_count": 7,
      "outputs": [
        {
          "output_type": "stream",
          "name": "stdout",
          "text": [
            "\n",
            "--- Problem 4: Elastic Net Regularization ---\n",
            "Model Accuracy with Elastic Net Regularization (Problem 4): 0.9532\n",
            "Coefficients with Elastic Net Regularization (Problem 4):\n",
            "[[ 0.0026  0.0047  0.0155  0.011   0.      0.     -0.     -0.      0.\n",
            "   0.      0.      0.0004  0.     -0.006   0.      0.      0.      0.\n",
            "   0.      0.      0.0026  0.0059  0.0154 -0.0121  0.     -0.     -0.\n",
            "  -0.      0.0001  0.    ]]\n",
            "--- End Problem 4 ---\n"
          ]
        }
      ]
    },
    {
      "cell_type": "markdown",
      "source": [
        "5. Write a Python program to train a Logistic Regression model for multiclass classification using multi_class='ovr'."
      ],
      "metadata": {
        "id": "cJAVoBuGiU7E"
      }
    },
    {
      "cell_type": "code",
      "source": [
        "# Common imports for all problems\n",
        "import numpy as np\n",
        "import pandas as pd\n",
        "from sklearn.model_selection import train_test_split, GridSearchCV, StratifiedKFold\n",
        "from sklearn.linear_model import LogisticRegression\n",
        "from sklearn.metrics import accuracy_score, classification_report\n",
        "from sklearn.datasets import load_breast_cancer, load_iris\n",
        "import warnings\n",
        "\n",
        "# Suppress warnings for cleaner output, especially for solver warnings\n",
        "warnings.filterwarnings('ignore')\n",
        "print(\"\\n--- Problem 5: Multiclass Classification (One-vs-Rest) ---\")\n",
        "\n",
        "# Load the Iris dataset for multiclass classification\n",
        "data_p5 = load_iris()\n",
        "X_p5 = data_p5.data\n",
        "y_p5 = data_p5.target # 3 classes: 0, 1, 2\n",
        "\n",
        "# Split the dataset\n",
        "X_train_p5, X_test_p5, y_train_p5, y_test_p5 = train_test_split(\n",
        "    X_p5, y_p5, test_size=0.3, random_state=42, stratify=y_p5 # Stratify to maintain class proportions\n",
        ")\n",
        "\n",
        "# Initialize Logistic Regression for multiclass using 'ovr' strategy\n",
        "# 'liblinear' solver supports 'ovr'. 'lbfgs', 'newton-cg', 'sag', 'saga' support 'ovr' and 'multinomial'.\n",
        "model_p5 = LogisticRegression(multi_class='ovr', solver='liblinear', random_state=42)\n",
        "\n",
        "# Train the model\n",
        "model_p5.fit(X_train_p5, y_train_p5)\n",
        "\n",
        "# Make predictions\n",
        "y_pred_p5 = model_p5.predict(X_test_p5)\n",
        "\n",
        "# Calculate and print accuracy\n",
        "accuracy_p5 = accuracy_score(y_test_p5, y_pred_p5)\n",
        "print(f\"Model Accuracy (Multiclass OvR - Problem 5): {accuracy_p5:.4f}\")\n",
        "\n",
        "# For OvR, .coef_ will have shape (n_classes, n_features)\n",
        "print(f\"Shape of coefficients (n_classes, n_features): {model_p5.coef_.shape}\")\n",
        "print(\"--- End Problem 5 ---\")\n"
      ],
      "metadata": {
        "colab": {
          "base_uri": "https://localhost:8080/",
          "height": 0
        },
        "id": "HQccIPS5ljXe",
        "outputId": "cdaaa3d7-216e-4301-9087-91d08b2111b3"
      },
      "execution_count": 8,
      "outputs": [
        {
          "output_type": "stream",
          "name": "stdout",
          "text": [
            "\n",
            "--- Problem 5: Multiclass Classification (One-vs-Rest) ---\n",
            "Model Accuracy (Multiclass OvR - Problem 5): 0.9111\n",
            "Shape of coefficients (n_classes, n_features): (3, 4)\n",
            "--- End Problem 5 ---\n"
          ]
        }
      ]
    },
    {
      "cell_type": "markdown",
      "source": [
        "6. Write a Python program to apply GridsearchCV to tune the hyperparameters (c and penalty) of Logistic Regression. Print the best parameters and accuracy."
      ],
      "metadata": {
        "id": "RRdQbxnUiU3U"
      }
    },
    {
      "cell_type": "code",
      "source": [
        "# Common imports for all problems\n",
        "import numpy as np\n",
        "import pandas as pd\n",
        "from sklearn.model_selection import train_test_split, GridSearchCV, StratifiedKFold\n",
        "from sklearn.linear_model import LogisticRegression\n",
        "from sklearn.metrics import accuracy_score, classification_report\n",
        "from sklearn.datasets import load_breast_cancer, load_iris\n",
        "import warnings\n",
        "\n",
        "# Suppress warnings for cleaner output, especially for solver warnings\n",
        "warnings.filterwarnings('ignore')\n",
        "print(\"\\n--- Problem 6: GridSearchCV for Hyperparameter Tuning ---\")\n",
        "\n",
        "# Using the Breast Cancer dataset (binary) again\n",
        "data_p6 = load_breast_cancer()\n",
        "X_p6 = data_p6.data\n",
        "y_p6 = data_p6.target\n",
        "\n",
        "X_train_p6, X_test_p6, y_train_p6, y_test_p6 = train_test_split(\n",
        "    X_p6, y_p6, test_size=0.3, random_state=42\n",
        ")\n",
        "\n",
        "# Define the parameter grid to search\n",
        "# 'liblinear' supports both 'l1' and 'l2'\n",
        "param_grid = {\n",
        "    'C': [0.001, 0.01, 0.1, 1, 10, 100],  # Inverse of regularization strength\n",
        "    'penalty': ['l1', 'l2']\n",
        "}\n",
        "\n",
        "# Initialize Logistic Regression model (solver must support both l1 and l2, so 'liblinear' or 'saga')\n",
        "# Using 'liblinear' here as it's generally good for GridSearchCV with L1/L2.\n",
        "logreg_p6 = LogisticRegression(random_state=42, solver='liblinear', max_iter=1000)\n",
        "\n",
        "# Initialize GridSearchCV\n",
        "# cv=5 means 5-fold cross-validation\n",
        "# scoring='accuracy' means optimize for accuracy\n",
        "grid_search_p6 = GridSearchCV(logreg_p6, param_grid, cv=5, scoring='accuracy', n_jobs=-1)\n",
        "\n",
        "# Perform the grid search on the training data\n",
        "grid_search_p6.fit(X_train_p6, y_train_p6)\n",
        "\n",
        "# Print the best parameters found\n",
        "print(f\"Best Parameters (Problem 6): {grid_search_p6.best_params_}\")\n",
        "\n",
        "# Print the best cross-validation accuracy\n",
        "print(f\"Best Cross-Validation Accuracy (Problem 6): {grid_search_p6.best_score_:.4f}\")\n",
        "\n",
        "# Evaluate the best model on the test set\n",
        "best_model_p6 = grid_search_p6.best_estimator_\n",
        "y_pred_p6 = best_model_p6.predict(X_test_p6)\n",
        "test_accuracy_p6 = accuracy_score(y_test_p6, y_pred_p6)\n",
        "print(f\"Test Set Accuracy with Best Model (Problem 6): {test_accuracy_p6:.4f}\")\n",
        "print(\"--- End Problem 6 ---\")\n"
      ],
      "metadata": {
        "colab": {
          "base_uri": "https://localhost:8080/",
          "height": 0
        },
        "id": "335fR8LglkLE",
        "outputId": "82847ce0-d771-4d4f-87dd-73bd4f5663b6"
      },
      "execution_count": 9,
      "outputs": [
        {
          "output_type": "stream",
          "name": "stdout",
          "text": [
            "\n",
            "--- Problem 6: GridSearchCV for Hyperparameter Tuning ---\n",
            "Best Parameters (Problem 6): {'C': 100, 'penalty': 'l1'}\n",
            "Best Cross-Validation Accuracy (Problem 6): 0.9673\n",
            "Test Set Accuracy with Best Model (Problem 6): 0.9766\n",
            "--- End Problem 6 ---\n"
          ]
        }
      ]
    },
    {
      "cell_type": "markdown",
      "source": [
        "7. Write a Python program to evaluate Logistic Regression using Stratified K-Fold Cross-Validation. Print the average accuracy."
      ],
      "metadata": {
        "id": "UZJNi-IHiUzj"
      }
    },
    {
      "cell_type": "code",
      "source": [
        "# Common imports for all problems\n",
        "import numpy as np\n",
        "import pandas as pd\n",
        "from sklearn.model_selection import train_test_split, GridSearchCV, StratifiedKFold\n",
        "from sklearn.linear_model import LogisticRegression\n",
        "from sklearn.metrics import accuracy_score, classification_report\n",
        "from sklearn.datasets import load_breast_cancer, load_iris\n",
        "import warnings\n",
        "\n",
        "# Suppress warnings for cleaner output, especially for solver warnings\n",
        "warnings.filterwarnings('ignore')\n",
        "print(\"\\n--- Problem 7: Stratified K-Fold Cross-Validation ---\")\n",
        "\n",
        "# Using the Breast Cancer dataset\n",
        "data_p7 = load_breast_cancer()\n",
        "X_p7 = data_p7.data\n",
        "y_p7 = data_p7.target\n",
        "\n",
        "# Initialize Logistic Regression model\n",
        "model_p7 = LogisticRegression(random_state=42, solver='liblinear') # Using liblinear for robustness\n",
        "\n",
        "# Initialize StratifiedKFold\n",
        "# n_splits=5 means 5 folds. shuffle=True randomizes data before splitting.\n",
        "# random_state for reproducibility\n",
        "skf = StratifiedKFold(n_splits=5, shuffle=True, random_state=42)\n",
        "\n",
        "accuracies_p7 = []\n",
        "\n",
        "# Perform cross-validation\n",
        "for fold, (train_index, test_index) in enumerate(skf.split(X_p7, y_p7)):\n",
        "    X_train_fold, X_test_fold = X_p7[train_index], X_p7[test_index]\n",
        "    y_train_fold, y_test_fold = y_p7[train_index], y_p7[test_index]\n",
        "\n",
        "    model_p7.fit(X_train_fold, y_train_fold)\n",
        "    y_pred_fold = model_p7.predict(X_test_fold)\n",
        "    fold_accuracy = accuracy_score(y_test_fold, y_pred_fold)\n",
        "    accuracies_p7.append(fold_accuracy)\n",
        "    print(f\"Fold {fold+1} Accuracy: {fold_accuracy:.4f}\")\n",
        "\n",
        "# Print the average accuracy\n",
        "average_accuracy_p7 = np.mean(accuracies_p7)\n",
        "print(f\"\\nAverage Accuracy (Stratified K-Fold - Problem 7): {average_accuracy_p7:.4f}\")\n",
        "print(\"--- End Problem 7 ---\")\n"
      ],
      "metadata": {
        "colab": {
          "base_uri": "https://localhost:8080/",
          "height": 0
        },
        "id": "n2elPww5lkkx",
        "outputId": "6f9d1a6d-7307-4d66-fa9b-5aa08ef3431d"
      },
      "execution_count": 10,
      "outputs": [
        {
          "output_type": "stream",
          "name": "stdout",
          "text": [
            "\n",
            "--- Problem 7: Stratified K-Fold Cross-Validation ---\n",
            "Fold 1 Accuracy: 0.9474\n",
            "Fold 2 Accuracy: 0.9211\n",
            "Fold 3 Accuracy: 0.9561\n",
            "Fold 4 Accuracy: 0.9649\n",
            "Fold 5 Accuracy: 0.9646\n",
            "\n",
            "Average Accuracy (Stratified K-Fold - Problem 7): 0.9508\n",
            "--- End Problem 7 ---\n"
          ]
        }
      ]
    },
    {
      "cell_type": "markdown",
      "source": [
        "8. Write a Python program to lead a dataset from a CSV file, apply Logistic Regression, and evaluate its accuracy."
      ],
      "metadata": {
        "id": "4b59onCbiUv2"
      }
    },
    {
      "cell_type": "code",
      "source": [
        "# Common imports for all problems\n",
        "import numpy as np\n",
        "import pandas as pd\n",
        "from sklearn.model_selection import train_test_split, GridSearchCV, StratifiedKFold\n",
        "from sklearn.linear_model import LogisticRegression\n",
        "from sklearn.metrics import accuracy_score, classification_report\n",
        "from sklearn.datasets import load_breast_cancer, load_iris\n",
        "import warnings\n",
        "\n",
        "# Suppress warnings for cleaner output, especially for solver warnings\n",
        "warnings.filterwarnings('ignore')\n",
        "print(\"\\n--- Problem 8: Load from CSV and Evaluate ---\")\n",
        "\n",
        "# Create a dummy CSV file for demonstration purposes\n",
        "# In a real scenario, you would load your actual CSV\n",
        "dummy_data = {\n",
        "    'feature1': np.random.rand(100),\n",
        "    'feature2': np.random.rand(100) * 10,\n",
        "    'feature3': np.random.randint(0, 2, 100),\n",
        "    'target': np.random.randint(0, 2, 100) # Binary target\n",
        "}\n",
        "df = pd.DataFrame(dummy_data)\n",
        "dummy_csv_path = 'dummy_logistic_data.csv'\n",
        "df.to_csv(dummy_csv_path, index=False)\n",
        "print(f\"Dummy CSV file '{dummy_csv_path}' created for demonstration.\")\n",
        "\n",
        "# Load the dataset from the CSV file\n",
        "try:\n",
        "    df_p8 = pd.read_csv(dummy_csv_path)\n",
        "    print(f\"Dataset loaded from '{dummy_csv_path}'. Shape: {df_p8.shape}\")\n",
        "    print(\"First 5 rows:\")\n",
        "    print(df_p8.head())\n",
        "\n",
        "    # Separate features (X) and target (y)\n",
        "    # Assuming 'target' is the column name for the dependent variable\n",
        "    X_p8 = df_p8.drop('target', axis=1)\n",
        "    y_p8 = df_p8['target']\n",
        "\n",
        "    # Split the dataset into training and testing sets\n",
        "    X_train_p8, X_test_p8, y_train_p8, y_test_p8 = train_test_split(\n",
        "        X_p8, y_p8, test_size=0.3, random_state=42\n",
        "    )\n",
        "\n",
        "    # Initialize Logistic Regression model\n",
        "    model_p8 = LogisticRegression(random_state=42, solver='liblinear')\n",
        "\n",
        "    # Train the model\n",
        "    model_p8.fit(X_train_p8, y_train_p8)\n",
        "\n",
        "    # Make predictions on the test set\n",
        "    y_pred_p8 = model_p8.predict(X_test_p8)\n",
        " # Calculate and print the accuracy\n",
        "    accuracy_p8 = accuracy_score(y_test_p8, y_pred_p8)\n",
        "    print(f\"\\nModel Accuracy (CSV Data - Problem 8): {accuracy_p8:.4f}\")\n",
        "    print(\"Classification Report:\")\n",
        "    print(classification_report(y_test_p8, y_pred_p8))\n",
        "\n",
        "except FileNotFoundError:\n",
        "    print(f\"Error: The file '{dummy_csv_path}' was not found.\")\n",
        "    print(\"Please ensure the CSV file exists in the correct directory or update the path.\")\n",
        "except Exception as e:\n",
        "    print(f\"An error occurred: {e}\")\n",
        "\n",
        "print(\"--- End Problem 8 ---\")"
      ],
      "metadata": {
        "colab": {
          "base_uri": "https://localhost:8080/",
          "height": 0
        },
        "id": "IIntze1ollDG",
        "outputId": "614e0660-844f-4783-d0ec-d7401f8f11fe"
      },
      "execution_count": 11,
      "outputs": [
        {
          "output_type": "stream",
          "name": "stdout",
          "text": [
            "\n",
            "--- Problem 8: Load from CSV and Evaluate ---\n",
            "Dummy CSV file 'dummy_logistic_data.csv' created for demonstration.\n",
            "Dataset loaded from 'dummy_logistic_data.csv'. Shape: (100, 4)\n",
            "First 5 rows:\n",
            "   feature1  feature2  feature3  target\n",
            "0  0.793975  0.447004         0       1\n",
            "1  0.151343  1.377725         1       0\n",
            "2  0.391862  8.110842         0       1\n",
            "3  0.613085  1.080896         1       0\n",
            "4  0.341080  1.263186         0       0\n",
            "\n",
            "Model Accuracy (CSV Data - Problem 8): 0.3667\n",
            "Classification Report:\n",
            "              precision    recall  f1-score   support\n",
            "\n",
            "           0       0.30      1.00      0.46         8\n",
            "           1       1.00      0.14      0.24        22\n",
            "\n",
            "    accuracy                           0.37        30\n",
            "   macro avg       0.65      0.57      0.35        30\n",
            "weighted avg       0.81      0.37      0.30        30\n",
            "\n",
            "--- End Problem 8 ---\n"
          ]
        }
      ]
    },
    {
      "cell_type": "markdown",
      "source": [
        "9. Write a Python program to apply RandomizedSearchCV for tuning hyperparameters (C, penalty, solver) in Logistic Regression. Print the best parameters and accuracy."
      ],
      "metadata": {
        "id": "tqTFCVhLiUsK"
      }
    },
    {
      "cell_type": "code",
      "metadata": {
        "colab": {
          "base_uri": "https://localhost:8080/"
        },
        "id": "DKUdmlq4qjhM",
        "outputId": "669af238-ea04-4eaa-b44a-a16237ffb569"
      },
      "source": [
        "print(\"\\n--- Problem 7: Stratified K-Fold Cross-Validation ---\")\n",
        "\n",
        "# Load the Breast Cancer dataset\n",
        "data_p7 = load_breast_cancer()\n",
        "X_p7 = data_p7.data\n",
        "y_p7 = data_p7.target\n",
        "\n",
        "# Initialize Logistic Regression model\n",
        "model_p7 = LogisticRegression(random_state=42, solver='liblinear') # Using liblinear for robustness\n",
        "\n",
        "# Initialize StratifiedKFold\n",
        "# n_splits=5 means 5 folds. shuffle=True randomizes data before splitting.\n",
        "# random_state for reproducibility\n",
        "skf = StratifiedKFold(n_splits=5, shuffle=True, random_state=42)\n",
        "\n",
        "accuracies_p7 = []\n",
        "\n",
        "# Perform cross-validation\n",
        "for fold, (train_index, test_index) in enumerate(skf.split(X_p7, y_p7)):\n",
        "    X_train_fold, X_test_fold = X_p7[train_index], X_p7[test_index]\n",
        "    y_train_fold, y_test_fold = y_p7[train_index], y_p7[test_index]\n",
        "\n",
        "    model_p7.fit(X_train_fold, y_train_fold)\n",
        "    y_pred_fold = model_p7.predict(X_test_fold)\n",
        "    fold_accuracy = accuracy_score(y_test_fold, y_pred_fold)\n",
        "    accuracies_p7.append(fold_accuracy)\n",
        "    print(f\"Fold {fold+1} Accuracy: {fold_accuracy:.4f}\")\n",
        "\n",
        "# Print the average accuracy\n",
        "average_accuracy_p7 = np.mean(accuracies_p7)\n",
        "print(f\"\\nAverage Accuracy (Stratified K-Fold - Problem 7): {average_accuracy_p7:.4f}\")\n",
        "print(\"--- End Problem 7 ---\")"
      ],
      "execution_count": 14,
      "outputs": [
        {
          "output_type": "stream",
          "name": "stdout",
          "text": [
            "\n",
            "--- Problem 7: Stratified K-Fold Cross-Validation ---\n",
            "Fold 1 Accuracy: 0.9474\n",
            "Fold 2 Accuracy: 0.9211\n",
            "Fold 3 Accuracy: 0.9561\n",
            "Fold 4 Accuracy: 0.9649\n",
            "Fold 5 Accuracy: 0.9646\n",
            "\n",
            "Average Accuracy (Stratified K-Fold - Problem 7): 0.9508\n",
            "--- End Problem 7 ---\n"
          ]
        }
      ]
    },
    {
      "cell_type": "markdown",
      "source": [
        "10. Write a Python program to implement One-vs-One (OvO) Multiclass Logistic Regression and print accuracy."
      ],
      "metadata": {
        "id": "sWWzeZrqiUoM"
      }
    },
    {
      "cell_type": "code",
      "source": [
        "# Common imports (ensure these are run first if starting a new session)\n",
        "import numpy as np\n",
        "import pandas as pd\n",
        "from sklearn.model_selection import train_test_split, GridSearchCV, RandomizedSearchCV, StratifiedKFold\n",
        "from sklearn.linear_model import LogisticRegression\n",
        "from sklearn.metrics import accuracy_score, classification_report, roc_auc_score, roc_curve, precision_recall_curve, auc, cohen_kappa_score, matthews_corrcoef, confusion_matrix\n",
        "from sklearn.datasets import load_breast_cancer, load_iris\n",
        "from sklearn.preprocessing import StandardScaler\n",
        "from sklearn.multiclass import OneVsOneClassifier\n",
        "import matplotlib.pyplot as plt\n",
        "import seaborn as sns\n",
        "import joblib # For saving/loading models\n",
        "import warnings\n",
        "\n",
        "# Suppress warnings for cleaner output\n",
        "warnings.filterwarnings('ignore')\n",
        "\n",
        "print(\"\\n--- Problem 10: One-vs-One (OvO) Multiclass Classification ---\")\n",
        "\n",
        "# Load the Iris dataset (multiclass)\n",
        "data_p10 = load_iris()\n",
        "X_p10 = data_p10.data\n",
        "y_p10 = data_p10.target # 3 classes: 0, 1, 2\n",
        "\n",
        "# Split the dataset\n",
        "X_train_p10, X_test_p10, y_train_p10, y_test_p10 = train_test_split(\n",
        "    X_p10, y_p10, test_size=0.3, random_state=42, stratify=y_p10\n",
        ")\n",
        "\n",
        "# Initialize a base Logistic Regression model\n",
        "# LogisticRegression itself can handle multiclass via 'ovr' or 'multinomial'.\n",
        "# Here, we explicitly wrap it with OneVsOneClassifier to force OvO strategy.\n",
        "base_logreg_p10 = LogisticRegression(random_state=42, solver='liblinear')\n",
        "\n",
        "# Wrap the base model with OneVsOneClassifier\n",
        "# This trains N * (N - 1) / 2 binary classifiers, where N is the number of classes.\n",
        "# For 3 classes (Iris), it trains 3 * (3-1) / 2 = 3 classifiers.\n",
        "model_p10 = OneVsOneClassifier(base_logreg_p10)\n",
        "\n",
        "# Train the model\n",
        "model_p10.fit(X_train_p10, y_train_p10)\n",
        "\n",
        "# Make predictions\n",
        "y_pred_p10 = model_p10.predict(X_test_p10)\n",
        "\n",
        "# Calculate and print accuracy\n",
        "accuracy_p10 = accuracy_score(y_test_p10, y_pred_p10)\n",
        "print(f\"Model Accuracy (Multiclass OvO - Problem 10): {accuracy_p10:.4f}\")\n",
        "print(\"--- End Problem 10 ---\")\n",
        "\n"
      ],
      "metadata": {
        "colab": {
          "base_uri": "https://localhost:8080/"
        },
        "id": "LT_CZQgqozUu",
        "outputId": "833ddee1-9004-46bf-c603-43b169a60312"
      },
      "execution_count": 16,
      "outputs": [
        {
          "output_type": "stream",
          "name": "stdout",
          "text": [
            "\n",
            "--- Problem 10: One-vs-One (OvO) Multiclass Classification ---\n",
            "Model Accuracy (Multiclass OvO - Problem 10): 0.9778\n",
            "--- End Problem 10 ---\n"
          ]
        }
      ]
    },
    {
      "cell_type": "markdown",
      "source": [
        "11. Write a Python program to train a Logistic Regression model and visualize the confusion matrix for binary\n",
        "classification."
      ],
      "metadata": {
        "id": "chf8JtFSiUkn"
      }
    },
    {
      "cell_type": "code",
      "source": [
        "print(\"\\n--- Problem 11: Confusion Matrix Visualization ---\")\n",
        "\n",
        "# Using the Breast Cancer dataset (binary)\n",
        "data_p11 = load_breast_cancer()\n",
        "X_p11 = data_p11.data\n",
        "y_p11 = data_p11.target\n",
        "class_names_p11 = data_p11.target_names # For better labels\n",
        "\n",
        "X_train_p11, X_test_p11, y_train_p11, y_test_p11 = train_test_split(\n",
        "    X_p11, y_p11, test_size=0.3, random_state=42\n",
        ")\n",
        "\n",
        "# Train a Logistic Regression model\n",
        "model_p11 = LogisticRegression(random_state=42, solver='liblinear')\n",
        "model_p11.fit(X_train_p11, y_train_p11)\n",
        "\n",
        "# Make predictions\n",
        "y_pred_p11 = model_p11.predict(X_test_p11)\n",
        "\n",
        "# Compute the confusion matrix\n",
        "cm_p11 = confusion_matrix(y_test_p11, y_pred_p11)\n",
        "print(\"Confusion Matrix (Problem 11):\\n\", cm_p11)\n",
        "\n",
        "# Visualize the confusion matrix\n",
        "plt.figure(figsize=(6, 5))\n",
        "sns.heatmap(cm_p11, annot=True, fmt='d', cmap='Blues',\n",
        "            xticklabels=class_names_p11, yticklabels=class_names_p11)\n",
        "plt.xlabel('Predicted Label')\n",
        "plt.ylabel('True Label')\n",
        "plt.title('Confusion Matrix for Logistic Regression')\n",
        "plt.show()\n",
        "print(\"--- End Problem 11 ---\")\n"
      ],
      "metadata": {
        "colab": {
          "base_uri": "https://localhost:8080/",
          "height": 595
        },
        "id": "bc9dMqwhviKE",
        "outputId": "b72ad56f-f557-4c1c-9565-eb31d7f15bd0"
      },
      "execution_count": 22,
      "outputs": [
        {
          "output_type": "stream",
          "name": "stdout",
          "text": [
            "\n",
            "--- Problem 11: Confusion Matrix Visualization ---\n",
            "Confusion Matrix (Problem 11):\n",
            " [[ 59   4]\n",
            " [  2 106]]\n"
          ]
        },
        {
          "output_type": "display_data",
          "data": {
            "text/plain": [
              "<Figure size 600x500 with 2 Axes>"
            ],
            "image/png": "[encoded data removed]"
          },
          "metadata": {}
        },
        {
          "output_type": "stream",
          "name": "stdout",
          "text": [
            "--- End Problem 11 ---\n"
          ]
        }
      ]
    },
    {
      "cell_type": "markdown",
      "source": [
        "12. Write a Python program to train a Logistic Regression model and evaluate its performance using Precision,\n",
        "Recall, and F1-Score."
      ],
      "metadata": {
        "id": "lHlfl0iQiUhV"
      }
    },
    {
      "cell_type": "code",
      "source": [
        "print(\"\\n--- Problem 12: Precision, Recall, F1-Score ---\")\n",
        "\n",
        "# Using the Breast Cancer dataset (binary)\n",
        "data_p12 = load_breast_cancer()\n",
        "X_p12 = data_p12.data\n",
        "y_p12 = data_p12.target\n",
        "\n",
        "X_train_p12, X_test_p12, y_train_p12, y_test_p12 = train_test_split(\n",
        "    X_p12, y_p12, test_size=0.3, random_state=42\n",
        ")\n",
        "\n",
        "# Train a Logistic Regression model\n",
        "model_p12 = LogisticRegression(random_state=42, solver='liblinear')\n",
        "model_p12.fit(X_train_p12, y_train_p12)\n",
        "\n",
        "# Make predictions\n",
        "y_pred_p12 = model_p12.predict(X_test_p12)\n",
        "\n",
        "# Print the classification report, which includes precision, recall, and f1-score\n",
        "print(\"Classification Report (Problem 12):\\n\")\n",
        "print(classification_report(y_test_p12, y_pred_p12, target_names=data_p12.target_names))\n",
        "print(\"--- End Problem 12 ---\")\n"
      ],
      "metadata": {
        "colab": {
          "base_uri": "https://localhost:8080/"
        },
        "id": "XR6ItL-rvoEI",
        "outputId": "3e20a205-d43b-491e-bbd1-5a85877df105"
      },
      "execution_count": 23,
      "outputs": [
        {
          "output_type": "stream",
          "name": "stdout",
          "text": [
            "\n",
            "--- Problem 12: Precision, Recall, F1-Score ---\n",
            "Classification Report (Problem 12):\n",
            "\n",
            "              precision    recall  f1-score   support\n",
            "\n",
            "   malignant       0.97      0.94      0.95        63\n",
            "      benign       0.96      0.98      0.97       108\n",
            "\n",
            "    accuracy                           0.96       171\n",
            "   macro avg       0.97      0.96      0.96       171\n",
            "weighted avg       0.96      0.96      0.96       171\n",
            "\n",
            "--- End Problem 12 ---\n"
          ]
        }
      ]
    },
    {
      "cell_type": "markdown",
      "source": [
        "13. Write a Python program to train a Logistic Regression model on imbalanced data and apply class weights to\n",
        "improve model performance."
      ],
      "metadata": {
        "id": "OjCD6tfXiUds"
      }
    },
    {
      "cell_type": "code",
      "metadata": {
        "id": "2894f478",
        "colab": {
          "base_uri": "https://localhost:8080/"
        },
        "outputId": "a46ff29d-878d-4f69-8af9-b81af7e58880"
      },
      "source": [
        "print(\"\\n--- Problem 12: Precision, Recall, F1-Score ---\")\n",
        "\n",
        "# Using the Breast Cancer dataset (binary)\n",
        "data_p12 = load_breast_cancer()\n",
        "X_p12 = data_p12.data\n",
        "y_p12 = data_p12.target\n",
        "\n",
        "X_train_p12, X_test_p12, y_train_p12, y_test_p12 = train_test_split(\n",
        "    X_p12, y_p12, test_size=0.3, random_state=42\n",
        ")\n",
        "\n",
        "# Train a Logistic Regression model\n",
        "model_p12 = LogisticRegression(random_state=42, solver='liblinear')\n",
        "model_p12.fit(X_train_p12, y_train_p12)\n",
        "\n",
        "# Make predictions\n",
        "y_pred_p12 = model_p12.predict(X_test_p12)\n",
        "\n",
        "# Print the classification report, which includes precision, recall, and f1-score\n",
        "print(\"Classification Report (Problem 12):\\n\")\n",
        "print(classification_report(y_test_p12, y_pred_p12, target_names=data_p12.target_names))\n",
        "\n",
        "print(\"--- End Problem 12 ---\")"
      ],
      "execution_count": 25,
      "outputs": [
        {
          "output_type": "stream",
          "name": "stdout",
          "text": [
            "\n",
            "--- Problem 12: Precision, Recall, F1-Score ---\n",
            "Classification Report (Problem 12):\n",
            "\n",
            "              precision    recall  f1-score   support\n",
            "\n",
            "   malignant       0.97      0.94      0.95        63\n",
            "      benign       0.96      0.98      0.97       108\n",
            "\n",
            "    accuracy                           0.96       171\n",
            "   macro avg       0.97      0.96      0.96       171\n",
            "weighted avg       0.96      0.96      0.96       171\n",
            "\n",
            "--- End Problem 12 ---\n"
          ]
        }
      ]
    },
    {
      "cell_type": "markdown",
      "source": [
        "14. Write a Python program to train Logistic Regression on the Titanic dataset, handle missing values, and\n",
        "evaluate performance."
      ],
      "metadata": {
        "id": "DuPqFKiciUaG"
      }
    },
    {
      "cell_type": "code",
      "source": [
        "print(\"\\n--- Problem 14: Logistic Regression on Titanic Dataset (Handling Missing Values) ---\")\n",
        "\n",
        "# Create a dummy Titanic-like dataset for demonstration\n",
        "data_titanic = {\n",
        "    'PassengerId': range(1, 101),\n",
        "    'Survived': np.random.randint(0, 2, 100),\n",
        "    'Pclass': np.random.choice([1, 2, 3], 100),\n",
        "    'Sex': np.random.choice(['male', 'female'], 100),\n",
        "    'Age': np.random.normal(30, 10, 100),\n",
        "    'SibSp': np.random.randint(0, 4, 100),\n",
        "    'Parch': np.random.randint(0, 3, 100),\n",
        "    'Fare': np.random.normal(30, 20, 100),\n",
        "    'Embarked': np.random.choice(['S', 'C', 'Q', np.nan], 100, p=[0.7, 0.15, 0.1, 0.05])\n",
        "}\n",
        "df_titanic = pd.DataFrame(data_titanic)\n",
        "\n",
        "# Introduce some NaNs to Age and Fare for demonstration\n",
        "nan_indices_age = np.random.choice(df_titanic.index, 10, replace=False)\n",
        "df_titanic.loc[nan_indices_age, 'Age'] = np.nan\n",
        "nan_indices_fare = np.random.choice(df_titanic.index, 5, replace=False)\n",
        "df_titanic.loc[nan_indices_fare, 'Fare'] = np.nan\n",
        "\n",
        "print(\"Dummy Titanic Data Head:\")\n",
        "print(df_titanic.head())\n",
        "print(\"\\nMissing values before handling:\")\n",
        "print(df_titanic.isnull().sum())\n",
        "# Feature Engineering / Preprocessing\n",
        "# 1. Handle Missing Values: Impute 'Age' with median, 'Fare' with median, 'Embarked' with mode.\n",
        "df_titanic['Age'].fillna(df_titanic['Age'].median(), inplace=True)\n",
        "df_titanic['Fare'].fillna(df_titanic['Fare'].median(), inplace=True)\n",
        "df_titanic['Embarked'].fillna(df_titanic['Embarked'].mode()[0], inplace=True)\n",
        "\n",
        "print(\"\\nMissing values after handling:\")\n",
        "print(df_titanic.isnull().sum())\n",
        "\n",
        "# 2. Encode Categorical Features: 'Sex' and 'Embarked'\n",
        "# One-hot encode 'Sex' and 'Embarked'\n",
        "df_titanic = pd.get_dummies(df_titanic, columns=['Sex', 'Embarked'], drop_first=True) # drop_first avoids multicollinearity\n",
        "\n",
        "# Define features (X) and target (y)\n",
        "X_p14 = df_titanic.drop(['PassengerId', 'Survived'], axis=1) # Drop PassengerId and original target\n",
        "y_p14 = df_titanic['Survived']\n",
        "\n",
        "X_train_p14, X_test_p14, y_train_p14, y_test_p14 = train_test_split(\n",
        "    X_p14, y_p14, test_size=0.3, random_state=42\n",
        ")\n",
        "\n",
        "# Train Logistic Regression model\n",
        "model_p14 = LogisticRegression(random_state=42, solver='liblinear', max_iter=1000)\n",
        "model_p14.fit(X_train_p14, y_train_p14)\n",
        "\n",
        "# Make predictions and evaluate\n",
        "y_pred_p14 = model_p14.predict(X_test_p14)\n",
        "accuracy_p14 = accuracy_score(y_test_p14, y_pred_p14)\n",
        "print(f\"\\nModel Accuracy on Titanic Data (Problem 14): {accuracy_p14:.4f}\")\n",
        "print(\"Classification Report:\\n\", classification_report(y_test_p14, y_pred_p14))\n",
        "print(\"--- End Problem 14 ---\")\n"
      ],
      "metadata": {
        "colab": {
          "base_uri": "https://localhost:8080/"
        },
        "id": "C4An5CtPv_y-",
        "outputId": "8cba2efc-2498-4819-8133-19d37afd772f"
      },
      "execution_count": 26,
      "outputs": [
        {
          "output_type": "stream",
          "name": "stdout",
          "text": [
            "\n",
            "--- Problem 14: Logistic Regression on Titanic Dataset (Handling Missing Values) ---\n",
            "Dummy Titanic Data Head:\n",
            "   PassengerId  Survived  Pclass     Sex        Age  SibSp  Parch       Fare  \\\n",
            "0            1         0       3  female  30.280995      1      0  32.071362   \n",
            "1            2         1       2  female  18.029129      1      1  35.352720   \n",
            "2            3         0       2  female  37.896728      2      1   3.153743   \n",
            "3            4         0       2  female  34.314895      1      0 -37.281911   \n",
            "4            5         0       2  female  19.032477      2      2  52.470836   \n",
            "\n",
            "  Embarked  \n",
            "0        Q  \n",
            "1        C  \n",
            "2        S  \n",
            "3        S  \n",
            "4        S  \n",
            "\n",
            "Missing values before handling:\n",
            "PassengerId     0\n",
            "Survived        0\n",
            "Pclass          0\n",
            "Sex             0\n",
            "Age            10\n",
            "SibSp           0\n",
            "Parch           0\n",
            "Fare            5\n",
            "Embarked        0\n",
            "dtype: int64\n",
            "\n",
            "Missing values after handling:\n",
            "PassengerId    0\n",
            "Survived       0\n",
            "Pclass         0\n",
            "Sex            0\n",
            "Age            0\n",
            "SibSp          0\n",
            "Parch          0\n",
            "Fare           0\n",
            "Embarked       0\n",
            "dtype: int64\n",
            "\n",
            "Model Accuracy on Titanic Data (Problem 14): 0.5333\n",
            "Classification Report:\n",
            "               precision    recall  f1-score   support\n",
            "\n",
            "           0       0.40      0.55      0.46        11\n",
            "           1       0.67      0.53      0.59        19\n",
            "\n",
            "    accuracy                           0.53        30\n",
            "   macro avg       0.53      0.54      0.52        30\n",
            "weighted avg       0.57      0.53      0.54        30\n",
            "\n",
            "--- End Problem 14 ---\n"
          ]
        }
      ]
    },
    {
      "cell_type": "markdown",
      "source": [
        "15. Write a Python program to apply feature scaling (Standardization) before training a Logistic Regression\n",
        "model. Evaluate its accuracy and compare results with and without scaling."
      ],
      "metadata": {
        "id": "XSx0H_PYiUWc"
      }
    },
    {
      "cell_type": "code",
      "source": [
        "print(\"\\n--- Problem 15: Feature Scaling (Standardization) ---\")\n",
        "\n",
        "# Using the Breast Cancer dataset (binary)\n",
        "data_p15 = load_breast_cancer()\n",
        "X_p15 = data_p15.data\n",
        "y_p15 = data_p15.target\n",
        "\n",
        "# Split the dataset\n",
        "X_train_p15, X_test_p15, y_train_p15, y_test_p15 = train_test_split(\n",
        "    X_p15, y_p15, test_size=0.3, random_state=42\n",
        ")\n",
        "\n",
        "# --- Model WITHOUT Scaling ---\n",
        "model_no_scale_p15 = LogisticRegression(random_state=42, solver='liblinear')\n",
        "model_no_scale_p15.fit(X_train_p15, y_train_p15)\n",
        "y_pred_no_scale_p15 = model_no_scale_p15.predict(X_test_p15)\n",
        "accuracy_no_scale_p15 = accuracy_score(y_test_p15, y_pred_no_scale_p15)\n",
        "print(f\"Accuracy WITHOUT Scaling (Problem 15): {accuracy_no_scale_p15:.4f}\")\n",
        "\n",
        "# --- Model WITH Scaling ---\n",
        "# Initialize StandardScaler\n",
        "scaler_p15 = StandardScaler()\n",
        "\n",
        "# Fit on training data and transform both training and test data\n",
        "X_train_scaled_p15 = scaler_p15.fit_transform(X_train_p15)\n",
        "X_test_scaled_p15 = scaler_p15.transform(X_test_p15)\n",
        "# Train Logistic Regression on scaled data\n",
        "# For 'sag' or 'saga' solvers, scaling is crucial for convergence and performance.\n",
        "# For 'liblinear', it often works okay without scaling, but scaling usually helps gradient-based solvers.\n",
        "model_with_scale_p15 = LogisticRegression(random_state=42, solver='lbfgs', max_iter=1000)\n",
        "model_with_scale_p15.fit(X_train_scaled_p15, y_train_p15)\n",
        "y_pred_with_scale_p15 = model_with_scale_p15.predict(X_test_scaled_p15)\n",
        "accuracy_with_scale_p15 = accuracy_score(y_test_p15, y_pred_with_scale_p15)\n",
        "print(f\"Accuracy WITH Scaling (Problem 15): {accuracy_with_scale_p15:.4f}\")\n",
        "\n",
        "# Note: The difference might not be huge on this dataset with 'liblinear'/'lbfgs'\n",
        "# because these solvers are relatively robust. However, for many other algorithms\n",
        "# and larger datasets, scaling is vital.\n",
        "print(\"--- End Problem 15 ---\")\n",
        "\n",
        "\n"
      ],
      "metadata": {
        "colab": {
          "base_uri": "https://localhost:8080/"
        },
        "id": "JMePKxl3wKil",
        "outputId": "551bcd42-c0df-457d-cd6f-2265c1b9810a"
      },
      "execution_count": 27,
      "outputs": [
        {
          "output_type": "stream",
          "name": "stdout",
          "text": [
            "\n",
            "--- Problem 15: Feature Scaling (Standardization) ---\n",
            "Accuracy WITHOUT Scaling (Problem 15): 0.9649\n",
            "Accuracy WITH Scaling (Problem 15): 0.9825\n",
            "--- End Problem 15 ---\n"
          ]
        }
      ]
    },
    {
      "cell_type": "markdown",
      "source": [
        "16. Write a Python program to train Logistic Regression and evaluate its performance using ROC-AUC score."
      ],
      "metadata": {
        "id": "lrSy01G3iUSs"
      }
    },
    {
      "cell_type": "code",
      "source": [
        "print(\"\\n--- Problem 16: ROC-AUC Score ---\")\n",
        "\n",
        "# Using the Breast Cancer dataset (binary)\n",
        "data_p16 = load_breast_cancer()\n",
        "X_p16 = data_p16.data\n",
        "y_p16 = data_p16.target\n",
        "\n",
        "X_train_p16, X_test_p16, y_train_p16, y_test_p16 = train_test_split(\n",
        "    X_p16, y_p16, test_size=0.3, random_state=42\n",
        ")\n",
        "\n",
        "# Train a Logistic Regression model\n",
        "model_p16 = LogisticRegression(random_state=42, solver='liblinear')\n",
        "model_p16.fit(X_train_p16, y_train_p16)\n",
        "\n",
        "# Get predicted probabilities for the positive class (class 1)\n",
        "# .predict_proba() returns probabilities for both classes [P(Y=0), P(Y=1)]\n",
        "y_prob_p16 = model_p16.predict_proba(X_test_p16)[:, 1]\n",
        "\n",
        "# Calculate ROC-AUC score\n",
        "roc_auc_p16 = roc_auc_score(y_test_p16, y_prob_p16)\n",
        "print(f\"ROC-AUC Score (Problem 16): {roc_auc_p16:.4f}\")\n",
        "\n",
        "# Optional: Plot ROC Curve\n",
        "fpr, tpr, thresholds = roc_curve(y_test_p16, y_prob_p16)\n",
        "plt.figure(figsize=(7, 6))\n",
        "plt.plot(fpr, tpr, color='darkorange', lw=2, label=f'ROC curve (AUC = {roc_auc_p16:.2f})')\n",
        "plt.plot([0, 1], [0, 1], color='navy', lw=2, linestyle='--')\n",
        "plt.xlim([0.0, 1.0])\n",
        "plt.ylim([0.0, 1.05])\n",
        "plt.xlabel('False Positive Rate')\n",
        "plt.ylabel('True Positive Rate')\n",
        "plt.title('Receiver Operating Characteristic (ROC) Curve')\n",
        "plt.legend(loc=\"lower right\")\n",
        "plt.grid(True)\n",
        "plt.show()\n",
        "print(\"--- End Problem 16 ---\")\n",
        "\n"
      ],
      "metadata": {
        "colab": {
          "base_uri": "https://localhost:8080/",
          "height": 636
        },
        "id": "ScWzW-CJwXMV",
        "outputId": "3c2d2e25-1487-4e4b-dc60-c62323605723"
      },
      "execution_count": 28,
      "outputs": [
        {
          "output_type": "stream",
          "name": "stdout",
          "text": [
            "\n",
            "--- Problem 16: ROC-AUC Score ---\n",
            "ROC-AUC Score (Problem 16): 0.9978\n"
          ]
        },
        {
          "output_type": "display_data",
          "data": {
            "text/plain": [
              "<Figure size 700x600 with 1 Axes>"
            ],
            "image/png": "[encoded data removed]"
          },
          "metadata": {}
        },
        {
          "output_type": "stream",
          "name": "stdout",
          "text": [
            "--- End Problem 16 ---\n"
          ]
        }
      ]
    },
    {
      "cell_type": "markdown",
      "source": [
        "17. Write a Python program to train Logistic Regression using a custom learning rate (C=0.5) and evaluate\n",
        "accuracy."
      ],
      "metadata": {
        "id": "JwL0ZJCdiUPY"
      }
    },
    {
      "cell_type": "code",
      "source": [
        "print(\"\\n--- Problem 17: Custom Regularization Strength (C=0.5) ---\")\n",
        "\n",
        "# Using the Breast Cancer dataset (binary)\n",
        "data_p17 = load_breast_cancer()\n",
        "X_p17 = data_p17.data\n",
        "y_p17 = data_p17.target\n",
        "\n",
        "X_train_p17, X_test_p17, y_train_p17, y_test_p17 = train_test_split(\n",
        "    X_p17, y_p17, test_size=0.3, random_state=42\n",
        ")\n",
        "\n",
        "# Train Logistic Regression with custom C (inverse of regularization strength)\n",
        "# C=0.5 means a moderate amount of L2 regularization (default is C=1.0)\n",
        "model_p17 = LogisticRegression(C=0.5, random_state=42, solver='liblinear')\n",
        "model_p17.fit(X_train_p17, y_train_p17)\n",
        "\n",
        "# Make predictions and evaluate accuracy\n",
        "y_pred_p17 = model_p17.predict(X_test_p17)\n",
        "accuracy_p17 = accuracy_score(y_test_p17, y_pred_p17)\n",
        "print(f\"Model Accuracy with C=0.5 (Problem 17): {accuracy_p17:.4f}\")\n",
        "print(\"--- End Problem 17 ---\")\n"
      ],
      "metadata": {
        "colab": {
          "base_uri": "https://localhost:8080/"
        },
        "id": "xDNnLI2cwvxc",
        "outputId": "0c96986f-d279-471e-d853-c062cfdf1aaf"
      },
      "execution_count": 29,
      "outputs": [
        {
          "output_type": "stream",
          "name": "stdout",
          "text": [
            "\n",
            "--- Problem 17: Custom Regularization Strength (C=0.5) ---\n",
            "Model Accuracy with C=0.5 (Problem 17): 0.9649\n",
            "--- End Problem 17 ---\n"
          ]
        }
      ]
    },
    {
      "cell_type": "markdown",
      "source": [
        "18. Write a Python program to train Logistic Regression and identify important features based on model\n",
        "coefficients."
      ],
      "metadata": {
        "id": "4TKaFKaziULf"
      }
    },
    {
      "cell_type": "code",
      "source": [
        "print(\"\\n--- Problem 18: Identify Important Features (Coefficients) ---\")\n",
        "\n",
        "# Using the Breast Cancer dataset (binary)\n",
        "data_p18 = load_breast_cancer()\n",
        "X_p18 = data_p18.data\n",
        "y_p18 = data_p18.target\n",
        "feature_names_p18 = data_p18.feature_names\n",
        "\n",
        "X_train_p18, X_test_p18, y_train_p18, y_test_p18 = train_test_split(\n",
        "    X_p18, y_p18, test_size=0.3, random_state=42\n",
        ")\n",
        "\n",
        "# Train a Logistic Regression model\n",
        "# It's good practice to scale features when interpreting coefficients\n",
        "scaler_p18 = StandardScaler()\n",
        "X_train_scaled_p18 = scaler_p18.fit_transform(X_train_p18)\n",
        "X_test_scaled_p18 = scaler_p18.transform(X_test_p18)\n",
        "\n",
        "model_p18 = LogisticRegression(random_state=42, solver='liblinear')\n",
        "model_p18.fit(X_train_scaled_p18, y_train_p18)\n",
        "\n",
        "# Get the coefficients\n",
        "# For binary classification, .coef_ will be of shape (1, n_features)\n",
        "coefficients_p18 = model_p18.coef_[0]\n",
        "\n",
        "# Create a DataFrame for better visualization\n",
        "coef_df_p18 = pd.DataFrame({\n",
        "    'Feature': feature_names_p18,\n",
        "    'Coefficient': coefficients_p18\n",
        "})\n",
        "# Sort by the absolute magnitude of coefficients to find the most impactful features\n",
        "coef_df_p18['Abs_Coefficient'] = np.abs(coef_df_p18['Coefficient'])\n",
        "coef_df_p18 = coef_df_p18.sort_values(by='Abs_Coefficient', ascending=False)\n",
        "\n",
        "print(\"Top 10 Most Important Features by Absolute Coefficient (Problem 18):\")\n",
        "print(coef_df_p18.head(10))\n",
        "\n",
        "# Visualize coefficients\n",
        "plt.figure(figsize=(10, 6))\n",
        "sns.barplot(x='Coefficient', y='Feature', data=coef_df_p18.head(10))\n",
        "plt.title('Top 10 Feature Coefficients in Logistic Regression (Scaled Data)')\n",
        "plt.xlabel('Coefficient Value')\n",
        "plt.ylabel('Feature')\n",
        "plt.show()\n",
        "\n",
        "# You can also use L1 regularization to get sparser coefficients (more zeros) for feature selection\n",
        "model_l1_p18 = LogisticRegression(random_state=42, solver='liblinear', penalty='l1', C=0.1)\n",
        "model_l1_p18.fit(X_train_scaled_p18, y_train_p18)\n",
        "coef_l1_p18 = model_l1_p18.coef_[0]\n",
        "coef_df_l1_p18 = pd.DataFrame({\n",
        "    'Feature': feature_names_p18,\n",
        "    'Coefficient_L1': coef_l1_p18\n",
        "}).sort_values(by='Coefficient_L1', key=abs, ascending=False)\n",
        "print(\"\\nCoefficients with L1 Regularization (Problem 18 - showing features with non-zero coefs):\")\n",
        "print(coef_df_l1_p18[coef_df_l1_p18['Coefficient_L1'] != 0])\n",
        "\n",
        "print(\"--- End Problem 18 ---\")\n"
      ],
      "metadata": {
        "colab": {
          "base_uri": "https://localhost:8080/",
          "height": 1000
        },
        "id": "TMUIXl_zwzoK",
        "outputId": "521c7e0e-d46e-40c3-9258-e7e88ae01b0b"
      },
      "execution_count": 30,
      "outputs": [
        {
          "output_type": "stream",
          "name": "stdout",
          "text": [
            "\n",
            "--- Problem 18: Identify Important Features (Coefficients) ---\n",
            "Top 10 Most Important Features by Absolute Coefficient (Problem 18):\n",
            "                 Feature  Coefficient  Abs_Coefficient\n",
            "21         worst texture    -1.283700         1.283700\n",
            "10          radius error    -1.255444         1.255444\n",
            "28        worst symmetry    -1.187337         1.187337\n",
            "7    mean concave points    -1.124178         1.124178\n",
            "26       worst concavity    -0.972104         0.972104\n",
            "13            area error    -0.906936         0.906936\n",
            "23            worst area    -0.817779         0.817779\n",
            "20          worst radius    -0.816793         0.816793\n",
            "27  worst concave points    -0.792676         0.792676\n",
            "6         mean concavity    -0.769394         0.769394\n"
          ]
        },
        {
          "output_type": "display_data",
          "data": {
            "text/plain": [
              "<Figure size 1000x600 with 1 Axes>"
            ],
            "image/png": "[encoded data removed]"
          },
          "metadata": {}
        },
        {
          "output_type": "stream",
          "name": "stdout",
          "text": [
            "\n",
            "Coefficients with L1 Regularization (Problem 18 - showing features with non-zero coefs):\n",
            "                 Feature  Coefficient_L1\n",
            "20          worst radius       -1.782724\n",
            "7    mean concave points       -1.022956\n",
            "21         worst texture       -0.613855\n",
            "27  worst concave points       -0.507314\n",
            "10          radius error       -0.269843\n",
            "28        worst symmetry       -0.191082\n",
            "24      worst smoothness       -0.088590\n",
            "26       worst concavity       -0.088199\n",
            "--- End Problem 18 ---\n"
          ]
        }
      ]
    },
    {
      "cell_type": "markdown",
      "source": [
        "19. Write a Python program to train Logistic Regression and evaluate its performance using Cohen’s Kappa\n",
        "Score."
      ],
      "metadata": {
        "id": "exUqm5dPiUIK"
      }
    },
    {
      "cell_type": "code",
      "source": [
        "print(\"\\n--- Problem 19: Cohen's Kappa Score ---\")\n",
        "\n",
        "# Using the Breast Cancer dataset (binary)\n",
        "data_p19 = load_breast_cancer()\n",
        "X_p19 = data_p19.data\n",
        "y_p19 = data_p19.target\n",
        "\n",
        "X_train_p19, X_test_p19, y_train_p19, y_test_p19 = train_test_split(\n",
        "    X_p19, y_p19, test_size=0.3, random_state=42\n",
        ")\n",
        "\n",
        "# Train a Logistic Regression model\n",
        "model_p19 = LogisticRegression(random_state=42, solver='liblinear')\n",
        "model_p19.fit(X_train_p19, y_train_p19)\n",
        "\n",
        "# Make predictions\n",
        "y_pred_p19 = model_p19.predict(X_test_p19)\n",
        "\n",
        "# Calculate Cohen's Kappa Score\n",
        "# Kappa measures the agreement between two raters (here, true labels and predictions)\n",
        "# It corrects for the agreement that occurs by chance.\n",
        "# Kappa values: <0.0 (poor), 0.0-0.20 (slight), 0.21-0.40 (fair), 0.41-0.60 (moderate),\n",
        "# 0.61-0.80 (substantial), 0.81-1.00 (almost perfect).\n",
        "kappa_p19 = cohen_kappa_score(y_test_p19, y_pred_p19)\n",
        "print(f\"Cohen's Kappa Score (Problem 19): {kappa_p19:.4f}\")\n",
        "\n",
        "print(\"--- End Problem 19 ---\")\n"
      ],
      "metadata": {
        "colab": {
          "base_uri": "https://localhost:8080/"
        },
        "id": "RZb29S7hw7aH",
        "outputId": "7a82e17f-aa6a-4448-d1fd-b7a65a7f2f38"
      },
      "execution_count": 31,
      "outputs": [
        {
          "output_type": "stream",
          "name": "stdout",
          "text": [
            "\n",
            "--- Problem 19: Cohen's Kappa Score ---\n",
            "Cohen's Kappa Score (Problem 19): 0.9241\n",
            "--- End Problem 19 ---\n"
          ]
        }
      ]
    },
    {
      "cell_type": "markdown",
      "source": [
        "20. Write a Python program to train Logistic Regression and visualize the Precision-Recall Curve for binary\n",
        "classificatio:\n"
      ],
      "metadata": {
        "id": "xqEiE5ssiUD-"
      }
    },
    {
      "cell_type": "code",
      "source": [
        "print(\"\\n--- Problem 20: Precision-Recall Curve ---\")\n",
        "\n",
        "# Using the Breast Cancer dataset (binary)\n",
        "data_p20 = load_breast_cancer()\n",
        "X_p20 = data_p20.data\n",
        "y_p20 = data_p20.target\n",
        "\n",
        "X_train_p20, X_test_p20, y_train_p20, y_test_p20 = train_test_split(\n",
        "    X_p20, y_p20, test_size=0.3, random_state=42\n",
        ")\n",
        "\n",
        "# Train a Logistic Regression model\n",
        "model_p20 = LogisticRegression(random_state=42, solver='liblinear')\n",
        "model_p20.fit(X_train_p20, y_train_p20)\n",
        "\n",
        "# Get predicted probabilities for the positive class\n",
        "y_prob_p20 = model_p20.predict_proba(X_test_p20)[:, 1]\n",
        "\n",
        "# Calculate precision, recall, and thresholds\n",
        "precision, recall, thresholds = precision_recall_curve(y_test_p20, y_prob_p20)\n",
        "\n",
        "# Calculate Area Under the Precision-Recall Curve (AUPRC)\n",
        "auprc_p20 = auc(recall, precision)\n",
        "\n",
        "# Plot Precision-Recall Curve\n",
        "plt.figure(figsize=(7, 6))\n",
        "plt.plot(recall, precision, color='blue', lw=2, label=f'Precision-Recall curve (AUPRC = {auprc_p20:.2f})')\n",
        "plt.xlabel('Recall')\n",
        "plt.ylabel('Precision')\n",
        "plt.title('Precision-Recall Curve for Logistic Regression')\n",
        "plt.legend(loc=\"lower left\")\n",
        "plt.grid(True)\n",
        "plt.show()\n",
        "\n",
        "print(f\"Area Under the Precision-Recall Curve (AUPRC - Problem 20): {auprc_p20:.4f}\")\n",
        "print(\"--- End Problem 20 ---\")\n",
        "\n"
      ],
      "metadata": {
        "colab": {
          "base_uri": "https://localhost:8080/",
          "height": 636
        },
        "id": "Kt4LWBFow_aw",
        "outputId": "fea16ee0-9ff6-44fb-f8fe-1d85e45222af"
      },
      "execution_count": 32,
      "outputs": [
        {
          "output_type": "stream",
          "name": "stdout",
          "text": [
            "\n",
            "--- Problem 20: Precision-Recall Curve ---\n"
          ]
        },
        {
          "output_type": "display_data",
          "data": {
            "text/plain": [
              "<Figure size 700x600 with 1 Axes>"
            ],
            "image/png": "[encoded data removed]"
          },
          "metadata": {}
        },
        {
          "output_type": "stream",
          "name": "stdout",
          "text": [
            "Area Under the Precision-Recall Curve (AUPRC - Problem 20): 0.9987\n",
            "--- End Problem 20 ---\n"
          ]
        }
      ]
    },
    {
      "cell_type": "markdown",
      "source": [
        "21. Write a Python program to train Logistic Regression with different solvers (liblinear, saga, lbfgs) and compare\n",
        "their accuracy."
      ],
      "metadata": {
        "id": "9FZmMWxHiUAG"
      }
    },
    {
      "cell_type": "code",
      "source": [
        "print(\"\\n--- Problem 21: Comparing Different Solvers ---\")\n",
        "\n",
        "# Using the Breast Cancer dataset (binary)\n",
        "data_p21 = load_breast_cancer()\n",
        "X_p21 = data_p21.data\n",
        "y_p21 = data_p21.target\n",
        "\n",
        "# It's good practice to scale data, especially for 'sag'/'saga'\n",
        "scaler_p21 = StandardScaler()\n",
        "X_scaled_p21 = scaler_p21.fit_transform(X_p21)\n",
        "\n",
        "X_train_p21, X_test_p21, y_train_p21, y_test_p21 = train_test_split(\n",
        "    X_scaled_p21, y_p21, test_size=0.3, random_state=42\n",
        ")\n",
        "\n",
        "solvers = ['liblinear', 'lbfgs', 'saga']\n",
        "accuracies_p21 = {}\n",
        "\n",
        "for solver_name in solvers:\n",
        "    print(f\"\\nTraining with solver: '{solver_name}'\")\n",
        "    try:\n",
        "        # Some solvers have restrictions on penalty.\n",
        "        # For simplicity, using L2 penalty and increased max_iter for robustness.\n",
        "        if solver_name == 'liblinear':\n",
        "            # 'liblinear' is efficient for small datasets, supports L1/L2\n",
        "            model_p21 = LogisticRegression(solver=solver_name, penalty='l2', random_state=42, max_iter=1000)\n",
        "        elif solver_name == 'lbfgs':\n",
        "            # 'lbfgs' is default, good for most cases, only supports L2/None\n",
        "            model_p21 = LogisticRegression(solver=solver_name, penalty='l2', random_state=42, max_iter=1000)\n",
        "        elif solver_name == 'saga':\n",
        "            # 'saga' is versatile, supports L1/L2/ElasticNet, good for large datasets\n",
        "            model_p21 = LogisticRegression(solver=solver_name, penalty='l2', random_state=42, max_iter=1000)\n",
        "# Add 'newton-cg' if desired, it also only supports L2/None\n",
        "        # elif solver_name == 'newton-cg':\n",
        "        #     model_p21 = LogisticRegression(solver=solver_name, penalty='l2', random_state=42, max_iter=1000)\n",
        "\n",
        "\n",
        "        model_p21.fit(X_train_p21, y_train_p21)\n",
        "        y_pred_p21 = model_p21.predict(X_test_p21)\n",
        "        acc = accuracy_score(y_test_p21, y_pred_p21)\n",
        "        accuracies_p21[solver_name] = acc\n",
        "        print(f\"Accuracy with '{solver_name}': {acc:.4f}\")\n",
        "    except Exception as e:\n",
        "        print(f\"Could not train with solver '{solver_name}': {e}\")\n",
        "\n",
        "print(\"\\nAccuracy Comparison (Problem 21):\")\n",
        "for solver, acc in accuracies_p21.items():\n",
        "    print(f\"  {solver}: {acc:.4f}\")\n",
        "print(\"--- End Problem 21 ---\")\n"
      ],
      "metadata": {
        "colab": {
          "base_uri": "https://localhost:8080/"
        },
        "id": "pheJ2bWGxUhM",
        "outputId": "2b7b5547-02d4-4b14-b053-e1391ea9f932"
      },
      "execution_count": 35,
      "outputs": [
        {
          "output_type": "stream",
          "name": "stdout",
          "text": [
            "\n",
            "--- Problem 21: Comparing Different Solvers ---\n",
            "\n",
            "Training with solver: 'liblinear'\n",
            "Accuracy with 'liblinear': 0.9825\n",
            "\n",
            "Training with solver: 'lbfgs'\n",
            "Accuracy with 'lbfgs': 0.9825\n",
            "\n",
            "Training with solver: 'saga'\n",
            "Accuracy with 'saga': 0.9825\n",
            "\n",
            "Accuracy Comparison (Problem 21):\n",
            "  liblinear: 0.9825\n",
            "  lbfgs: 0.9825\n",
            "  saga: 0.9825\n",
            "--- End Problem 21 ---\n"
          ]
        }
      ]
    },
    {
      "cell_type": "markdown",
      "source": [
        "22. Write a Python program to train Logistic Regression and evaluate its performance using Matthews\n",
        "Correlation Coefficient (MCC)."
      ],
      "metadata": {
        "id": "TJC0sn3hiT8Z"
      }
    },
    {
      "cell_type": "code",
      "source": [
        "print(\"\\n--- Problem 22: Matthews Correlation Coefficient (MCC) ---\")\n",
        "\n",
        "# Using the Breast Cancer dataset (binary)\n",
        "data_p22 = load_breast_cancer()\n",
        "X_p22 = data_p22.data\n",
        "y_p22 = data_p22.target\n",
        "\n",
        "X_train_p22, X_test_p22, y_train_p22, y_test_p22 = train_test_split(\n",
        "    X_p22, y_p22, test_size=0.3, random_state=42\n",
        ")\n",
        "\n",
        "# Train a Logistic Regression model\n",
        "model_p22 = LogisticRegression(random_state=42, solver='liblinear')\n",
        "model_p22.fit(X_train_p22, y_train_p22)\n",
        "\n",
        "# Make predictions\n",
        "y_pred_p22 = model_p22.predict(X_test_p22)\n",
        "\n",
        "# Calculate Matthews Correlation Coefficient\n",
        "# MCC is a robust metric that accounts for class imbalance.\n",
        "# Range from -1 (perfect inverse prediction) to +1 (perfect prediction). 0 means random.\n",
        "mcc_p22 = matthews_corrcoef(y_test_p22, y_pred_p22)\n",
        "print(f\"Matthews Correlation Coefficient (MCC - Problem 22): {mcc_p22:.4f}\")\n",
        "\n",
        "print(\"--- End Problem 22 ---\")\n"
      ],
      "metadata": {
        "colab": {
          "base_uri": "https://localhost:8080/"
        },
        "id": "8dMGxwMexck6",
        "outputId": "b29b5aa3-40ea-4943-f6f6-d2b0fdbe7e2b"
      },
      "execution_count": 36,
      "outputs": [
        {
          "output_type": "stream",
          "name": "stdout",
          "text": [
            "\n",
            "--- Problem 22: Matthews Correlation Coefficient (MCC) ---\n",
            "Matthews Correlation Coefficient (MCC - Problem 22): 0.9244\n",
            "--- End Problem 22 ---\n"
          ]
        }
      ]
    },
    {
      "cell_type": "markdown",
      "source": [
        "23. Write a Python program to train Logistic Regression on both raw and standardized data. Compare their\n",
        "accuracy to see the impact of feature scaling."
      ],
      "metadata": {
        "id": "YU38S88WiT4D"
      }
    },
    {
      "cell_type": "code",
      "source": [
        "print(\"\\n--- Problem 23: Impact of Feature Scaling (Raw vs. Standardized) ---\")\n",
        "\n",
        "# Using the Breast Cancer dataset (binary)\n",
        "data_p23 = load_breast_cancer()\n",
        "X_p23 = data_p23.data\n",
        "y_p23 = data_p23.target\n",
        "\n",
        "X_train_p23, X_test_p23, y_train_p23, y_test_p23 = train_test_split(\n",
        "    X_p23, y_p23, test_size=0.3, random_state=42\n",
        ")\n",
        "\n",
        "# --- Train on RAW (unscaled) Data ---\n",
        "model_raw_p23 = LogisticRegression(random_state=42, solver='liblinear', max_iter=1000)\n",
        "model_raw_p23.fit(X_train_p23, y_train_p23)\n",
        "y_pred_raw_p23 = model_raw_p23.predict(X_test_p23)\n",
        "accuracy_raw_p23 = accuracy_score(y_test_p23, y_pred_raw_p23)\n",
        "print(f\"Accuracy on RAW Data (Problem 23): {accuracy_raw_p23:.4f}\")\n",
        "\n",
        "# --- Train on STANDARDIZED Data ---\n",
        "scaler_p23 = StandardScaler()\n",
        "X_train_scaled_p23 = scaler_p23.fit_transform(X_train_p23)\n",
        "X_test_scaled_p23 = scaler_p23.transform(X_test_p23)\n",
        "\n",
        "model_scaled_p23 = LogisticRegression(random_state=42, solver='lbfgs', max_iter=1000) # Using 'lbfgs' which often benefits from scaling\n",
        "model_scaled_p23.fit(X_train_scaled_p23, y_train_p23)\n",
        "y_pred_scaled_p23 = model_scaled_p23.predict(X_test_scaled_p23)\n",
        "accuracy_scaled_p23 = accuracy_score(y_test_p23, y_pred_scaled_p23)\n",
        "print(f\"Accuracy on STANDARDIZED Data (Problem 23): {accuracy_scaled_p23:.4f}\")\n",
        "print(\"\\nObservation:\")\n",
        "if accuracy_scaled_p23 > accuracy_raw_p23:\n",
        "    print(\"Accuracy slightly improved with standardization.\")\n",
        "elif accuracy_scaled_p23 < accuracy_raw_p23:\n",
        "    print(\"Accuracy slightly decreased with standardization (rare, might be random fluctuation or solver choice).\")\n",
        "else:\n",
        "    print(\"Accuracy remained similar with and without standardization.\")\n",
        "print(\"--- End Problem 23 ---\")\n"
      ],
      "metadata": {
        "colab": {
          "base_uri": "https://localhost:8080/"
        },
        "id": "EFp3bMsvxgRr",
        "outputId": "29487d95-6077-44af-cf59-a36c2b6a0f90"
      },
      "execution_count": 37,
      "outputs": [
        {
          "output_type": "stream",
          "name": "stdout",
          "text": [
            "\n",
            "--- Problem 23: Impact of Feature Scaling (Raw vs. Standardized) ---\n",
            "Accuracy on RAW Data (Problem 23): 0.9649\n",
            "Accuracy on STANDARDIZED Data (Problem 23): 0.9825\n",
            "\n",
            "Observation:\n",
            "Accuracy slightly improved with standardization.\n",
            "--- End Problem 23 ---\n"
          ]
        }
      ]
    },
    {
      "cell_type": "markdown",
      "source": [
        "24. Write a Python program to train Logistic Regression and find the optimal C (regularization strength) using\n",
        "cross-validation."
      ],
      "metadata": {
        "id": "NUrxI6FgiTz3"
      }
    },
    {
      "cell_type": "code",
      "source": [
        "print(\"\\n--- Problem 24: Optimal C using Cross-Validation ---\")\n",
        "\n",
        "# Using the Breast Cancer dataset (binary)\n",
        "data_p24 = load_breast_cancer()\n",
        "X_p24 = data_p24.data\n",
        "y_p24 = data_p24.target\n",
        "\n",
        "# It's good practice to scale data before tuning C\n",
        "scaler_p24 = StandardScaler()\n",
        "X_scaled_p24 = scaler_p24.fit_transform(X_p24)\n",
        "\n",
        "# We'll use the entire dataset for cross-validation to find optimal C\n",
        "# Then evaluate on a separate test set if desired, or just use the CV score.\n",
        "X_train_p24, X_test_p24, y_train_p24, y_test_p24 = train_test_split(\n",
        "    X_scaled_p24, y_p24, test_size=0.2, random_state=42, stratify=y_p24\n",
        ")\n",
        "\n",
        "\n",
        "# Define a range of C values to test\n",
        "c_values = np.logspace(-3, 3, 7) # Example: 0.001, 0.01, 0.1, 1, 10, 100, 1000\n",
        "best_c = None\n",
        "best_cv_accuracy = 0\n",
        "\n",
        "print(\"Searching for optimal C using 5-fold Stratified Cross-Validation:\")\n",
        "for c in c_values:\n",
        "    model_p24 = LogisticRegression(C=c, random_state=42, solver='lbfgs', max_iter=1000)\n",
        "\n",
        "    # Perform Stratified K-Fold Cross-Validation\n",
        "    skf_p24 = StratifiedKFold(n_splits=5, shuffle=True, random_state=42)\n",
        "    fold_accuracies = []\n",
        "    for train_index, val_index in skf_p24.split(X_train_p24, y_train_p24):\n",
        "        X_train_fold, X_val_fold = X_train_p24[train_index], X_train_p24[val_index]\n",
        "        y_train_fold, y_val_fold = y_train_p24[train_index], y_train_p24[val_index]\n",
        "\n",
        "        model_p24.fit(X_train_fold, y_train_fold)\n",
        "        y_pred_val = model_p24.predict(X_val_fold)\n",
        "        fold_accuracies.append(accuracy_score(y_val_fold, y_pred_val))\n",
        "\n",
        "    avg_accuracy = np.mean(fold_accuracies)\n",
        "    print(f\"  C={c:.3f}, Average CV Accuracy: {avg_accuracy:.4f}\")\n",
        "\n",
        "    if avg_accuracy > best_cv_accuracy:\n",
        "        best_cv_accuracy = avg_accuracy\n",
        "        best_c = c\n",
        "\n",
        "print(f\"\\nOptimal C found (Problem 24): {best_c}\")\n",
        "print(f\"Best Average Cross-Validation Accuracy: {best_cv_accuracy:.4f}\")\n",
        "\n",
        "# Train the final model with the optimal C on the full training data\n",
        "final_model_p24 = LogisticRegression(C=best_c, random_state=42, solver='lbfgs', max_iter=1000)\n",
        "final_model_p24.fit(X_train_p24, y_train_p24)\n",
        "\n",
        "# Evaluate on the unseen test set\n",
        "y_pred_test_p24 = final_model_p24.predict(X_test_p24)\n",
        "test_accuracy_p24 = accuracy_score(y_test_p24, y_pred_test_p24)\n",
        "print(f\"Test Set Accuracy with Optimal C (Problem 24): {test_accuracy_p24:.4f}\")\n",
        "\n",
        "print(\"--- End Problem 24 ---\")"
      ],
      "metadata": {
        "colab": {
          "base_uri": "https://localhost:8080/"
        },
        "id": "PJ4LPPr-xpVQ",
        "outputId": "fbe1f496-b4b2-4e44-91aa-59dfa7e12733"
      },
      "execution_count": 42,
      "outputs": [
        {
          "output_type": "stream",
          "name": "stdout",
          "text": [
            "\n",
            "--- Problem 24: Optimal C using Cross-Validation ---\n",
            "Searching for optimal C using 5-fold Stratified Cross-Validation:\n",
            "  C=0.001, Average CV Accuracy: 0.8835\n",
            "  C=0.010, Average CV Accuracy: 0.9516\n",
            "  C=0.100, Average CV Accuracy: 0.9824\n",
            "  C=1.000, Average CV Accuracy: 0.9780\n",
            "  C=10.000, Average CV Accuracy: 0.9604\n",
            "  C=100.000, Average CV Accuracy: 0.9516\n",
            "  C=1000.000, Average CV Accuracy: 0.9451\n",
            "\n",
            "Optimal C found (Problem 24): 0.1\n",
            "Best Average Cross-Validation Accuracy: 0.9824\n",
            "Test Set Accuracy with Optimal C (Problem 24): 0.9737\n",
            "--- End Problem 24 ---\n"
          ]
        }
      ]
    },
    {
      "cell_type": "markdown",
      "source": [
        "25. Write a Python program to train Logistic Regression, save the trained model using joblib, and load it again to\n",
        "make predictions."
      ],
      "metadata": {
        "id": "cqaPRskZiTv7"
      }
    },
    {
      "cell_type": "code",
      "source": [
        "print(\"\\n--- Problem 25: Save and Load Model with Joblib ---\")\n",
        "\n",
        "# Using the Breast Cancer dataset (binary)\n",
        "data_p25 = load_breast_cancer()\n",
        "X_p25 = data_p25.data\n",
        "y_p25 = data_p25.target\n",
        "\n",
        "X_train_p25, X_test_p25, y_train_p25, y_test_p25 = train_test_split(\n",
        "    X_p25, y_p25, test_size=0.3, random_state=42\n",
        ")\n",
        "\n",
        "# 1. Train the Logistic Regression model\n",
        "model_p25 = LogisticRegression(random_state=42, solver='liblinear')\n",
        "model_p25.fit(X_train_p25, y_train_p25)\n",
        "\n",
        "print(\"Model trained successfully.\")\n",
        "\n",
        "# 2. Define the filename for saving the model\n",
        "model_filename = 'logistic_regression_model.joblib'\n",
        "\n",
        "# 3. Save the trained model using joblib\n",
        "try:\n",
        "    joblib.dump(model_p25, model_filename)\n",
        "    print(f\"Model saved to '{model_filename}'\")\n",
        "except Exception as e:\n",
        "    print(f\"Error saving model: {e}\")\n",
        "\n",
        "# 4. Load the trained model from the file\n",
        "loaded_model_p25 = None\n",
        "try:\n",
        "    loaded_model_p25 = joblib.load(model_filename)\n",
        "    print(f\"Model loaded from '{model_filename}'\")\n",
        "except FileNotFoundError:\n",
        "    print(f\"Error: Model file '{model_filename}' not found.\")\n",
        "except Exception as e:\n",
        "    print(f\"Error loading model: {e}\")\n",
        "\n",
        "# 5. Make predictions using the loaded model and evaluate\n",
        "if loaded_model_p25 is not None:\n",
        "    y_pred_loaded_p25 = loaded_model_p25.predict(X_test_p25)\n",
        "    accuracy_loaded_p25 = accuracy_score(y_test_p25, y_pred_loaded_p25)\n",
        "    print(f\"Accuracy with Loaded Model (Problem 25): {accuracy_loaded_p25:.4f}\")\n",
        "\n",
        "    # Compare with original model's accuracy (should be identical)\n",
        "    y_pred_original_p25 = model_p25.predict(X_test_p25)\n",
        "    accuracy_original_p25 = accuracy_score(y_test_p25, y_pred_original_p25)\n",
        "    print(f\"Accuracy with Original Model: {accuracy_original_p25:.4f}\")\n",
        "    if accuracy_loaded_p25 == accuracy_original_p25:\n",
        "        print(\"Accuracy of loaded model matches original model (as expected).\")\n",
        "else:\n",
        "    print(\"Could not evaluate loaded model due to loading error.\")\n",
        "print(\"--- End Problem 25 ---\")"
      ],
      "metadata": {
        "colab": {
          "base_uri": "https://localhost:8080/"
        },
        "id": "wvz2u26Kx-sM",
        "outputId": "912da9bf-5f3a-4e5b-e727-0264f98176bb"
      },
      "execution_count": 43,
      "outputs": [
        {
          "output_type": "stream",
          "name": "stdout",
          "text": [
            "\n",
            "--- Problem 25: Save and Load Model with Joblib ---\n",
            "Model trained successfully.\n",
            "Model saved to 'logistic_regression_model.joblib'\n",
            "Model loaded from 'logistic_regression_model.joblib'\n",
            "Accuracy with Loaded Model (Problem 25): 0.9649\n",
            "Accuracy with Original Model: 0.9649\n",
            "Accuracy of loaded model matches original model (as expected).\n",
            "--- End Problem 25 ---\n"
          ]
        }
      ]
    }
  ]
}